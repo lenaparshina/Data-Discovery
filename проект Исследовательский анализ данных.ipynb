{
 "cells": [
  {
   "cell_type": "markdown",
   "metadata": {
    "id": "-VFbjcb3Awb7"
   },
   "source": [
    "# Исследование объявлений о продаже квартир\n",
    "\n",
    "В вашем распоряжении данные сервиса Яндекс Недвижимость — архив объявлений о продаже квартир в Санкт-Петербурге и соседних населённых пунктах за несколько лет. Вам нужно научиться определять рыночную стоимость объектов недвижимости. Для этого проведите исследовательский анализ данных и установите параметры, влияющие на цену объектов. Это позволит построить автоматизированную систему: она отследит аномалии и мошенническую деятельность.\n",
    "\n",
    "По каждой квартире на продажу доступны два вида данных. Первые вписаны пользователем, вторые — получены автоматически на основе картографических данных. Например, расстояние до центра, аэропорта и других объектов — эти данные автоматически получены из геосервисов. Количество парков и водоёмов также заполняется без участия пользователя."
   ]
  },
  {
   "cell_type": "markdown",
   "metadata": {},
   "source": [
    "**Цель исследования:**\n",
    "Используя данные сервиса Яндекс.Недвижимость необходимо выявить основные параметры и факторы, влияющие на рыночную цену квартиры.\n",
    "\n",
    "**Задачи исследования:**\n",
    "1. Получение данных и первичный осмотр данных.\n",
    "2. Предобработка данных: поиск дубликатов, пропусков, аномалий. Исправление, удаление данных.\n",
    "3. Добавление в датасет новых показателей:\n",
    "цена квадратного метра; \n",
    "день недели, месяц и год публикации объявления; \n",
    "этаж квартиры; варианты — первый, последний, другой.\n",
    "4. Исследовательский анализ:\n",
    " анализ всего датасета, выявление зависимости цены от показателей квартиры;\n",
    " анализ квартир, находящихся в центре Санкт-Петербурга.\n"
   ]
  },
  {
   "cell_type": "markdown",
   "metadata": {
    "id": "aeFLH07FAwb9"
   },
   "source": [
    "### Откройте файл с данными и изучите общую информацию"
   ]
  },
  {
   "cell_type": "code",
   "execution_count": 1,
   "metadata": {
    "id": "7MZxY65pAwb9"
   },
   "outputs": [],
   "source": [
    "import pandas as pd\n",
    "import matplotlib.pyplot as plt #загружаю библиотеки"
   ]
  },
  {
   "cell_type": "code",
   "execution_count": 2,
   "metadata": {},
   "outputs": [],
   "source": [
    "data = pd.read_csv('real_estate_data.csv', sep='\\t') #открываю данные"
   ]
  },
  {
   "cell_type": "code",
   "execution_count": 3,
   "metadata": {},
   "outputs": [
    {
     "name": "stdout",
     "output_type": "stream",
     "text": [
      "<class 'pandas.core.frame.DataFrame'>\n",
      "RangeIndex: 23699 entries, 0 to 23698\n",
      "Data columns (total 22 columns):\n",
      " #   Column                Non-Null Count  Dtype  \n",
      "---  ------                --------------  -----  \n",
      " 0   total_images          23699 non-null  int64  \n",
      " 1   last_price            23699 non-null  float64\n",
      " 2   total_area            23699 non-null  float64\n",
      " 3   first_day_exposition  23699 non-null  object \n",
      " 4   rooms                 23699 non-null  int64  \n",
      " 5   ceiling_height        14504 non-null  float64\n",
      " 6   floors_total          23613 non-null  float64\n",
      " 7   living_area           21796 non-null  float64\n",
      " 8   floor                 23699 non-null  int64  \n",
      " 9   is_apartment          2775 non-null   object \n",
      " 10  studio                23699 non-null  bool   \n",
      " 11  open_plan             23699 non-null  bool   \n",
      " 12  kitchen_area          21421 non-null  float64\n",
      " 13  balcony               12180 non-null  float64\n",
      " 14  locality_name         23650 non-null  object \n",
      " 15  airports_nearest      18157 non-null  float64\n",
      " 16  cityCenters_nearest   18180 non-null  float64\n",
      " 17  parks_around3000      18181 non-null  float64\n",
      " 18  parks_nearest         8079 non-null   float64\n",
      " 19  ponds_around3000      18181 non-null  float64\n",
      " 20  ponds_nearest         9110 non-null   float64\n",
      " 21  days_exposition       20518 non-null  float64\n",
      "dtypes: bool(2), float64(14), int64(3), object(3)\n",
      "memory usage: 3.7+ MB\n"
     ]
    }
   ],
   "source": [
    "data.info() #изучаю общую информацию"
   ]
  },
  {
   "cell_type": "code",
   "execution_count": 4,
   "metadata": {},
   "outputs": [
    {
     "data": {
      "text/html": [
       "<div>\n",
       "<style scoped>\n",
       "    .dataframe tbody tr th:only-of-type {\n",
       "        vertical-align: middle;\n",
       "    }\n",
       "\n",
       "    .dataframe tbody tr th {\n",
       "        vertical-align: top;\n",
       "    }\n",
       "\n",
       "    .dataframe thead th {\n",
       "        text-align: right;\n",
       "    }\n",
       "</style>\n",
       "<table border=\"1\" class=\"dataframe\">\n",
       "  <thead>\n",
       "    <tr style=\"text-align: right;\">\n",
       "      <th></th>\n",
       "      <th>total_images</th>\n",
       "      <th>last_price</th>\n",
       "      <th>total_area</th>\n",
       "      <th>first_day_exposition</th>\n",
       "      <th>rooms</th>\n",
       "      <th>ceiling_height</th>\n",
       "      <th>floors_total</th>\n",
       "      <th>living_area</th>\n",
       "      <th>floor</th>\n",
       "      <th>is_apartment</th>\n",
       "      <th>...</th>\n",
       "      <th>kitchen_area</th>\n",
       "      <th>balcony</th>\n",
       "      <th>locality_name</th>\n",
       "      <th>airports_nearest</th>\n",
       "      <th>cityCenters_nearest</th>\n",
       "      <th>parks_around3000</th>\n",
       "      <th>parks_nearest</th>\n",
       "      <th>ponds_around3000</th>\n",
       "      <th>ponds_nearest</th>\n",
       "      <th>days_exposition</th>\n",
       "    </tr>\n",
       "  </thead>\n",
       "  <tbody>\n",
       "    <tr>\n",
       "      <th>0</th>\n",
       "      <td>20</td>\n",
       "      <td>13000000.0</td>\n",
       "      <td>108.0</td>\n",
       "      <td>2019-03-07T00:00:00</td>\n",
       "      <td>3</td>\n",
       "      <td>2.70</td>\n",
       "      <td>16.0</td>\n",
       "      <td>51.0</td>\n",
       "      <td>8</td>\n",
       "      <td>NaN</td>\n",
       "      <td>...</td>\n",
       "      <td>25.0</td>\n",
       "      <td>NaN</td>\n",
       "      <td>Санкт-Петербург</td>\n",
       "      <td>18863.0</td>\n",
       "      <td>16028.0</td>\n",
       "      <td>1.0</td>\n",
       "      <td>482.0</td>\n",
       "      <td>2.0</td>\n",
       "      <td>755.0</td>\n",
       "      <td>NaN</td>\n",
       "    </tr>\n",
       "    <tr>\n",
       "      <th>1</th>\n",
       "      <td>7</td>\n",
       "      <td>3350000.0</td>\n",
       "      <td>40.4</td>\n",
       "      <td>2018-12-04T00:00:00</td>\n",
       "      <td>1</td>\n",
       "      <td>NaN</td>\n",
       "      <td>11.0</td>\n",
       "      <td>18.6</td>\n",
       "      <td>1</td>\n",
       "      <td>NaN</td>\n",
       "      <td>...</td>\n",
       "      <td>11.0</td>\n",
       "      <td>2.0</td>\n",
       "      <td>посёлок Шушары</td>\n",
       "      <td>12817.0</td>\n",
       "      <td>18603.0</td>\n",
       "      <td>0.0</td>\n",
       "      <td>NaN</td>\n",
       "      <td>0.0</td>\n",
       "      <td>NaN</td>\n",
       "      <td>81.0</td>\n",
       "    </tr>\n",
       "    <tr>\n",
       "      <th>2</th>\n",
       "      <td>10</td>\n",
       "      <td>5196000.0</td>\n",
       "      <td>56.0</td>\n",
       "      <td>2015-08-20T00:00:00</td>\n",
       "      <td>2</td>\n",
       "      <td>NaN</td>\n",
       "      <td>5.0</td>\n",
       "      <td>34.3</td>\n",
       "      <td>4</td>\n",
       "      <td>NaN</td>\n",
       "      <td>...</td>\n",
       "      <td>8.3</td>\n",
       "      <td>0.0</td>\n",
       "      <td>Санкт-Петербург</td>\n",
       "      <td>21741.0</td>\n",
       "      <td>13933.0</td>\n",
       "      <td>1.0</td>\n",
       "      <td>90.0</td>\n",
       "      <td>2.0</td>\n",
       "      <td>574.0</td>\n",
       "      <td>558.0</td>\n",
       "    </tr>\n",
       "    <tr>\n",
       "      <th>3</th>\n",
       "      <td>0</td>\n",
       "      <td>64900000.0</td>\n",
       "      <td>159.0</td>\n",
       "      <td>2015-07-24T00:00:00</td>\n",
       "      <td>3</td>\n",
       "      <td>NaN</td>\n",
       "      <td>14.0</td>\n",
       "      <td>NaN</td>\n",
       "      <td>9</td>\n",
       "      <td>NaN</td>\n",
       "      <td>...</td>\n",
       "      <td>NaN</td>\n",
       "      <td>0.0</td>\n",
       "      <td>Санкт-Петербург</td>\n",
       "      <td>28098.0</td>\n",
       "      <td>6800.0</td>\n",
       "      <td>2.0</td>\n",
       "      <td>84.0</td>\n",
       "      <td>3.0</td>\n",
       "      <td>234.0</td>\n",
       "      <td>424.0</td>\n",
       "    </tr>\n",
       "    <tr>\n",
       "      <th>4</th>\n",
       "      <td>2</td>\n",
       "      <td>10000000.0</td>\n",
       "      <td>100.0</td>\n",
       "      <td>2018-06-19T00:00:00</td>\n",
       "      <td>2</td>\n",
       "      <td>3.03</td>\n",
       "      <td>14.0</td>\n",
       "      <td>32.0</td>\n",
       "      <td>13</td>\n",
       "      <td>NaN</td>\n",
       "      <td>...</td>\n",
       "      <td>41.0</td>\n",
       "      <td>NaN</td>\n",
       "      <td>Санкт-Петербург</td>\n",
       "      <td>31856.0</td>\n",
       "      <td>8098.0</td>\n",
       "      <td>2.0</td>\n",
       "      <td>112.0</td>\n",
       "      <td>1.0</td>\n",
       "      <td>48.0</td>\n",
       "      <td>121.0</td>\n",
       "    </tr>\n",
       "  </tbody>\n",
       "</table>\n",
       "<p>5 rows × 22 columns</p>\n",
       "</div>"
      ],
      "text/plain": [
       "   total_images  last_price  total_area first_day_exposition  rooms  \\\n",
       "0            20  13000000.0       108.0  2019-03-07T00:00:00      3   \n",
       "1             7   3350000.0        40.4  2018-12-04T00:00:00      1   \n",
       "2            10   5196000.0        56.0  2015-08-20T00:00:00      2   \n",
       "3             0  64900000.0       159.0  2015-07-24T00:00:00      3   \n",
       "4             2  10000000.0       100.0  2018-06-19T00:00:00      2   \n",
       "\n",
       "   ceiling_height  floors_total  living_area  floor is_apartment  ...  \\\n",
       "0            2.70          16.0         51.0      8          NaN  ...   \n",
       "1             NaN          11.0         18.6      1          NaN  ...   \n",
       "2             NaN           5.0         34.3      4          NaN  ...   \n",
       "3             NaN          14.0          NaN      9          NaN  ...   \n",
       "4            3.03          14.0         32.0     13          NaN  ...   \n",
       "\n",
       "   kitchen_area  balcony    locality_name  airports_nearest  \\\n",
       "0          25.0      NaN  Санкт-Петербург           18863.0   \n",
       "1          11.0      2.0   посёлок Шушары           12817.0   \n",
       "2           8.3      0.0  Санкт-Петербург           21741.0   \n",
       "3           NaN      0.0  Санкт-Петербург           28098.0   \n",
       "4          41.0      NaN  Санкт-Петербург           31856.0   \n",
       "\n",
       "  cityCenters_nearest  parks_around3000  parks_nearest  ponds_around3000  \\\n",
       "0             16028.0               1.0          482.0               2.0   \n",
       "1             18603.0               0.0            NaN               0.0   \n",
       "2             13933.0               1.0           90.0               2.0   \n",
       "3              6800.0               2.0           84.0               3.0   \n",
       "4              8098.0               2.0          112.0               1.0   \n",
       "\n",
       "   ponds_nearest  days_exposition  \n",
       "0          755.0              NaN  \n",
       "1            NaN             81.0  \n",
       "2          574.0            558.0  \n",
       "3          234.0            424.0  \n",
       "4           48.0            121.0  \n",
       "\n",
       "[5 rows x 22 columns]"
      ]
     },
     "execution_count": 4,
     "metadata": {},
     "output_type": "execute_result"
    }
   ],
   "source": [
    "data.head() #вывожу первые строки"
   ]
  },
  {
   "cell_type": "code",
   "execution_count": 5,
   "metadata": {},
   "outputs": [
    {
     "data": {
      "image/png": "[encoded data removed]",
      "text/plain": [
       "<Figure size 1500x2000 with 20 Axes>"
      ]
     },
     "metadata": {},
     "output_type": "display_data"
    }
   ],
   "source": [
    "data.hist(figsize=(15, 20)) #строю гистограмму для всех числовых столбцов таблицы \n",
    "plt.show()"
   ]
  },
  {
   "cell_type": "markdown",
   "metadata": {},
   "source": [
    "**Вывод:**\n",
    "\n",
    "В данных 23699 строк. Есть пропущенные значения и некорректный тип данных. На гистограммах видно, что в данных есть аномальные значения"
   ]
  },
  {
   "cell_type": "markdown",
   "metadata": {
    "id": "-O5NtivEAwb9"
   },
   "source": [
    "### Выполните предобработку данных"
   ]
  },
  {
   "cell_type": "markdown",
   "metadata": {},
   "source": [
    "**Переименование столбцов**\n",
    "\n",
    "Приведу названия столбцов к стандартоному виду"
   ]
  },
  {
   "cell_type": "code",
   "execution_count": 6,
   "metadata": {},
   "outputs": [],
   "source": [
    "data.rename(columns = {'cityCenters_nearest':'city_centers_nearest'}, inplace = True ) "
   ]
  },
  {
   "cell_type": "markdown",
   "metadata": {
    "id": "7v3vAeTuAwb-"
   },
   "source": [
    "**Удаление пропусков**"
   ]
  },
  {
   "cell_type": "code",
   "execution_count": 7,
   "metadata": {},
   "outputs": [
    {
     "data": {
      "text/plain": [
       "total_images                0\n",
       "last_price                  0\n",
       "total_area                  0\n",
       "first_day_exposition        0\n",
       "rooms                       0\n",
       "ceiling_height           9195\n",
       "floors_total               86\n",
       "living_area              1903\n",
       "floor                       0\n",
       "is_apartment            20924\n",
       "studio                      0\n",
       "open_plan                   0\n",
       "kitchen_area             2278\n",
       "balcony                 11519\n",
       "locality_name              49\n",
       "airports_nearest         5542\n",
       "city_centers_nearest     5519\n",
       "parks_around3000         5518\n",
       "parks_nearest           15620\n",
       "ponds_around3000         5518\n",
       "ponds_nearest           14589\n",
       "days_exposition          3181\n",
       "dtype: int64"
      ]
     },
     "execution_count": 7,
     "metadata": {},
     "output_type": "execute_result"
    }
   ],
   "source": [
    "data.isna().sum() #смотрю, в каких стобцах есть пропуски"
   ]
  },
  {
   "cell_type": "markdown",
   "metadata": {},
   "source": [
    "В части столбцов нужно заменить пропуски. \n",
    "\n",
    "Для числовых столбцов ceiling_height, floors_total, living_area, kitchen_area буду использовать медиану, чтобы избежать искажений из-за выбросов"
   ]
  },
  {
   "cell_type": "code",
   "execution_count": 8,
   "metadata": {},
   "outputs": [],
   "source": [
    "numerical_cols = ['ceiling_height', 'floors_total', 'living_area', 'kitchen_area']\n",
    "for col in numerical_cols:\n",
    "    data[col].fillna(data[col].median(), inplace=True)"
   ]
  },
  {
   "cell_type": "markdown",
   "metadata": {},
   "source": [
    "Заменим пропуски в balcony и is_apartment:"
   ]
  },
  {
   "cell_type": "code",
   "execution_count": 9,
   "metadata": {},
   "outputs": [],
   "source": [
    "data['balcony'] = data['balcony'].fillna(0)\n",
    "data['is_apartment'] = data['is_apartment'].fillna(False)"
   ]
  },
  {
   "cell_type": "code",
   "execution_count": 10,
   "metadata": {},
   "outputs": [
    {
     "data": {
      "text/plain": [
       "total_images                0\n",
       "last_price                  0\n",
       "total_area                  0\n",
       "first_day_exposition        0\n",
       "rooms                       0\n",
       "ceiling_height              0\n",
       "floors_total                0\n",
       "living_area                 0\n",
       "floor                       0\n",
       "is_apartment                0\n",
       "studio                      0\n",
       "open_plan                   0\n",
       "kitchen_area                0\n",
       "balcony                     0\n",
       "locality_name              49\n",
       "airports_nearest         5542\n",
       "city_centers_nearest     5519\n",
       "parks_around3000         5518\n",
       "parks_nearest           15620\n",
       "ponds_around3000         5518\n",
       "ponds_nearest           14589\n",
       "days_exposition          3181\n",
       "dtype: int64"
      ]
     },
     "execution_count": 10,
     "metadata": {},
     "output_type": "execute_result"
    }
   ],
   "source": [
    "data.isna().sum() #посмотрим, как изменилось число пропусков"
   ]
  },
  {
   "cell_type": "markdown",
   "metadata": {},
   "source": [
    "Для всех столбцов, связанных с расстоянием и для столбца days_exposition, не будем вносить изменения\n",
    "Пропуски в данных могли возникнуть по нескольким причинам:\n",
    "\n",
    "1. Ошибки ввода данных\n",
    "2. Технические сбои\n",
    "3. Изменение определений или стандартов"
   ]
  },
  {
   "cell_type": "markdown",
   "metadata": {},
   "source": [
    "**Изменение типов данных**"
   ]
  },
  {
   "cell_type": "code",
   "execution_count": 11,
   "metadata": {},
   "outputs": [
    {
     "name": "stdout",
     "output_type": "stream",
     "text": [
      "<class 'pandas.core.frame.DataFrame'>\n",
      "RangeIndex: 23699 entries, 0 to 23698\n",
      "Data columns (total 22 columns):\n",
      " #   Column                Non-Null Count  Dtype  \n",
      "---  ------                --------------  -----  \n",
      " 0   total_images          23699 non-null  int64  \n",
      " 1   last_price            23699 non-null  float64\n",
      " 2   total_area            23699 non-null  float64\n",
      " 3   first_day_exposition  23699 non-null  object \n",
      " 4   rooms                 23699 non-null  int64  \n",
      " 5   ceiling_height        23699 non-null  float64\n",
      " 6   floors_total          23699 non-null  float64\n",
      " 7   living_area           23699 non-null  float64\n",
      " 8   floor                 23699 non-null  int64  \n",
      " 9   is_apartment          23699 non-null  bool   \n",
      " 10  studio                23699 non-null  bool   \n",
      " 11  open_plan             23699 non-null  bool   \n",
      " 12  kitchen_area          23699 non-null  float64\n",
      " 13  balcony               23699 non-null  float64\n",
      " 14  locality_name         23650 non-null  object \n",
      " 15  airports_nearest      18157 non-null  float64\n",
      " 16  city_centers_nearest  18180 non-null  float64\n",
      " 17  parks_around3000      18181 non-null  float64\n",
      " 18  parks_nearest         8079 non-null   float64\n",
      " 19  ponds_around3000      18181 non-null  float64\n",
      " 20  ponds_nearest         9110 non-null   float64\n",
      " 21  days_exposition       20518 non-null  float64\n",
      "dtypes: bool(3), float64(14), int64(3), object(2)\n",
      "memory usage: 3.5+ MB\n"
     ]
    }
   ],
   "source": [
    "data.info() #проверяю тип данных в столбцах"
   ]
  },
  {
   "cell_type": "markdown",
   "metadata": {},
   "source": [
    "Данные в столбце first_day_exposition должны иметь тип datetime64. В столбцах floors_total и balconyдолжны быть данные типа int64, т.к. это всегда целые числа. Дааные столбца is_apartment нужно привести к типу bool. Столбцы parks_around3000, ponds_around3000, days_exposition оставим без изменений, так как в них остались пропуски, которые нельзя заменить"
   ]
  },
  {
   "cell_type": "code",
   "execution_count": 12,
   "metadata": {},
   "outputs": [],
   "source": [
    "data['first_day_exposition'] = pd.to_datetime(data['first_day_exposition'], format='%Y-%m-%dT%H:%M:%S') #привожу данные столбца 'first_day_exposition' к формату datetime"
   ]
  },
  {
   "cell_type": "code",
   "execution_count": 13,
   "metadata": {},
   "outputs": [],
   "source": [
    "int_cols = ['floors_total', 'balcony']\n",
    "for col in int_cols:\n",
    "    data[col] = data[col].astype('int64')"
   ]
  },
  {
   "cell_type": "code",
   "execution_count": 14,
   "metadata": {},
   "outputs": [],
   "source": [
    "# заменяю тип данных на \"bool\"\n",
    "data['is_apartment'] = data['is_apartment'].astype(bool)"
   ]
  },
  {
   "cell_type": "code",
   "execution_count": 15,
   "metadata": {},
   "outputs": [
    {
     "name": "stdout",
     "output_type": "stream",
     "text": [
      "<class 'pandas.core.frame.DataFrame'>\n",
      "RangeIndex: 23699 entries, 0 to 23698\n",
      "Data columns (total 22 columns):\n",
      " #   Column                Non-Null Count  Dtype         \n",
      "---  ------                --------------  -----         \n",
      " 0   total_images          23699 non-null  int64         \n",
      " 1   last_price            23699 non-null  float64       \n",
      " 2   total_area            23699 non-null  float64       \n",
      " 3   first_day_exposition  23699 non-null  datetime64[ns]\n",
      " 4   rooms                 23699 non-null  int64         \n",
      " 5   ceiling_height        23699 non-null  float64       \n",
      " 6   floors_total          23699 non-null  int64         \n",
      " 7   living_area           23699 non-null  float64       \n",
      " 8   floor                 23699 non-null  int64         \n",
      " 9   is_apartment          23699 non-null  bool          \n",
      " 10  studio                23699 non-null  bool          \n",
      " 11  open_plan             23699 non-null  bool          \n",
      " 12  kitchen_area          23699 non-null  float64       \n",
      " 13  balcony               23699 non-null  int64         \n",
      " 14  locality_name         23650 non-null  object        \n",
      " 15  airports_nearest      18157 non-null  float64       \n",
      " 16  city_centers_nearest  18180 non-null  float64       \n",
      " 17  parks_around3000      18181 non-null  float64       \n",
      " 18  parks_nearest         8079 non-null   float64       \n",
      " 19  ponds_around3000      18181 non-null  float64       \n",
      " 20  ponds_nearest         9110 non-null   float64       \n",
      " 21  days_exposition       20518 non-null  float64       \n",
      "dtypes: bool(3), datetime64[ns](1), float64(12), int64(5), object(1)\n",
      "memory usage: 3.5+ MB\n"
     ]
    }
   ],
   "source": [
    "data.info() #проверяю тип данных в столбцах"
   ]
  },
  {
   "cell_type": "markdown",
   "metadata": {
    "id": "Z8eJek3IAwb-"
   },
   "source": [
    "**Устарнение дубликатов**"
   ]
  },
  {
   "cell_type": "code",
   "execution_count": 16,
   "metadata": {},
   "outputs": [
    {
     "data": {
      "text/plain": [
       "0"
      ]
     },
     "execution_count": 16,
     "metadata": {},
     "output_type": "execute_result"
    }
   ],
   "source": [
    "data.duplicated().sum() #проверяю наличие явных дубликатов"
   ]
  },
  {
   "cell_type": "markdown",
   "metadata": {},
   "source": [
    "Явных дубликатов нет"
   ]
  },
  {
   "cell_type": "code",
   "execution_count": 17,
   "metadata": {},
   "outputs": [
    {
     "data": {
      "text/plain": [
       "array(['Бокситогорск', 'Волосово', 'Волхов', 'Всеволожск', 'Выборг',\n",
       "       'Высоцк', 'Гатчина', 'Зеленогорск', 'Ивангород', 'Каменногорск',\n",
       "       'Кингисепп', 'Кириши', 'Кировск', 'Колпино', 'Коммунар',\n",
       "       'Красное Село', 'Кронштадт', 'Кудрово', 'Лодейное Поле',\n",
       "       'Ломоносов', 'Луга', 'Любань', 'Мурино', 'Никольское',\n",
       "       'Новая Ладога', 'Отрадное', 'Павловск', 'Петергоф', 'Пикалёво',\n",
       "       'Подпорожье', 'Приморск', 'Приозерск', 'Пушкин', 'Санкт-Петербург',\n",
       "       'Светогорск', 'Сертолово', 'Сестрорецк', 'Сланцы', 'Сосновый Бор',\n",
       "       'Сясьстрой', 'Тихвин', 'Тосно', 'Шлиссельбург',\n",
       "       'городской поселок Большая Ижора', 'городской поселок Янино-1',\n",
       "       'городской посёлок Будогощь', 'городской посёлок Виллози',\n",
       "       'городской посёлок Лесогорский', 'городской посёлок Мга',\n",
       "       'городской посёлок Назия', 'городской посёлок Новоселье',\n",
       "       'городской посёлок Павлово', 'городской посёлок Рощино',\n",
       "       'городской посёлок Свирьстрой', 'городской посёлок Советский',\n",
       "       'городской посёлок Фёдоровское', 'городской посёлок Янино-1',\n",
       "       'деревня Агалатово', 'деревня Аро', 'деревня Батово',\n",
       "       'деревня Бегуницы', 'деревня Белогорка', 'деревня Большая Вруда',\n",
       "       'деревня Большая Пустомержа', 'деревня Большие Колпаны',\n",
       "       'деревня Большое Рейзино', 'деревня Большой Сабск', 'деревня Бор',\n",
       "       'деревня Борисова Грива', 'деревня Ваганово', 'деревня Вартемяги',\n",
       "       'деревня Вахнова Кара', 'деревня Выскатка', 'деревня Гарболово',\n",
       "       'деревня Глинка', 'деревня Горбунки', 'деревня Гостилицы',\n",
       "       'деревня Заклинье', 'деревня Заневка', 'деревня Зимитицы',\n",
       "       'деревня Извара', 'деревня Иссад', 'деревня Калитино',\n",
       "       'деревня Кальтино', 'деревня Камышовка', 'деревня Каськово',\n",
       "       'деревня Келози', 'деревня Кипень', 'деревня Кисельня',\n",
       "       'деревня Колтуши', 'деревня Коркино', 'деревня Котлы',\n",
       "       'деревня Кривко', 'деревня Кудрово', 'деревня Кузьмолово',\n",
       "       'деревня Курковицы', 'деревня Куровицы', 'деревня Куттузи',\n",
       "       'деревня Лаврики', 'деревня Лаголово', 'деревня Лампово',\n",
       "       'деревня Лесколово', 'деревня Лопухинка', 'деревня Лупполово',\n",
       "       'деревня Малая Романовка', 'деревня Малое Верево',\n",
       "       'деревня Малое Карлино', 'деревня Малые Колпаны',\n",
       "       'деревня Мануйлово', 'деревня Меньково', 'деревня Мины',\n",
       "       'деревня Мистолово', 'деревня Ненимяки', 'деревня Нижние Осельки',\n",
       "       'деревня Нижняя', 'деревня Низино', 'деревня Новое Девяткино',\n",
       "       'деревня Новолисино', 'деревня Нурма', 'деревня Оржицы',\n",
       "       'деревня Парицы', 'деревня Пельгора', 'деревня Пеники',\n",
       "       'деревня Пижма', 'деревня Пикколово', 'деревня Пудомяги',\n",
       "       'деревня Пустынка', 'деревня Пчева', 'деревня Рабитицы',\n",
       "       'деревня Разбегаево', 'деревня Раздолье', 'деревня Разметелево',\n",
       "       'деревня Рапполово', 'деревня Реброво', 'деревня Русско',\n",
       "       'деревня Сижно', 'деревня Снегирёвка', 'деревня Старая',\n",
       "       'деревня Старая Пустошь', 'деревня Старое Хинколово',\n",
       "       'деревня Старополье', 'деревня Старосиверская',\n",
       "       'деревня Старые Бегуницы', 'деревня Суоранда',\n",
       "       'деревня Сяськелево', 'деревня Тарасово', 'деревня Терпилицы',\n",
       "       'деревня Тихковицы', 'деревня Тойворово', 'деревня Торосово',\n",
       "       'деревня Торошковичи', 'деревня Трубников Бор',\n",
       "       'деревня Фалилеево', 'деревня Фёдоровское', 'деревня Хапо-Ое',\n",
       "       'деревня Хязельки', 'деревня Чудской Бор', 'деревня Шпаньково',\n",
       "       'деревня Щеглово', 'деревня Юкки', 'деревня Ялгино',\n",
       "       'деревня Яльгелево', 'деревня Ям-Тесово',\n",
       "       'коттеджный поселок Кивеннапа Север', 'коттеджный поселок Счастье',\n",
       "       'коттеджный посёлок Лесное', 'поселок Аннино', 'поселок Барышево',\n",
       "       'поселок Бугры', 'поселок Возрождение', 'поселок Войсковицы',\n",
       "       'поселок Володарское', 'поселок Гаврилово', 'поселок Гарболово',\n",
       "       'поселок Гладкое', 'поселок Глажево', 'поселок Глебычево',\n",
       "       'поселок Гончарово', 'поселок Громово', 'поселок Дружноселье',\n",
       "       'поселок Елизаветино', 'поселок Жилгородок', 'поселок Жилпосёлок',\n",
       "       'поселок Житково', 'поселок Заводской', 'поселок Запорожское',\n",
       "       'поселок Зимитицы', 'поселок Ильичёво', 'поселок Калитино',\n",
       "       'поселок Каложицы', 'поселок Кингисеппский', 'поселок Кирпичное',\n",
       "       'поселок Кобралово', 'поселок Кобринское', 'поселок Коммунары',\n",
       "       'поселок Коробицыно', 'поселок Котельский',\n",
       "       'поселок Красная Долина', 'поселок Красносельское',\n",
       "       'поселок Лесное', 'поселок Лисий Нос', 'поселок Лукаши',\n",
       "       'поселок Любань', 'поселок Мельниково', 'поселок Мичуринское',\n",
       "       'поселок Молодцово', 'поселок Мурино', 'поселок Новый Свет',\n",
       "       'поселок Новый Учхоз', 'поселок Оредеж',\n",
       "       'поселок Пансионат Зелёный Бор', 'поселок Первомайское',\n",
       "       'поселок Перово', 'поселок Петровское', 'поселок Победа',\n",
       "       'поселок Поляны', 'поселок Почап', 'поселок Починок',\n",
       "       'поселок Пушное', 'поселок Пчевжа', 'поселок Рабитицы',\n",
       "       'поселок Романовка', 'поселок Ромашки', 'поселок Рябово',\n",
       "       'поселок Севастьяново', 'поселок Селезнёво', 'поселок Сельцо',\n",
       "       'поселок Семиозерье', 'поселок Семрино', 'поселок Серебрянский',\n",
       "       'поселок Совхозный', 'поселок Старая Малукса',\n",
       "       'поселок Стеклянный', 'поселок Сумино', 'поселок Суходолье',\n",
       "       'поселок Тельмана', 'поселок Терволово', 'поселок Торковичи',\n",
       "       'поселок Тёсово-4', 'поселок Углово', 'поселок Усть-Луга',\n",
       "       'поселок Ушаки', 'поселок Цвелодубово', 'поселок Цвылёво',\n",
       "       'поселок городского типа Большая Ижора',\n",
       "       'поселок городского типа Вырица',\n",
       "       'поселок городского типа Дружная Горка',\n",
       "       'поселок городского типа Дубровка',\n",
       "       'поселок городского типа Ефимовский',\n",
       "       'поселок городского типа Кондратьево',\n",
       "       'поселок городского типа Красный Бор',\n",
       "       'поселок городского типа Кузьмоловский',\n",
       "       'поселок городского типа Лебяжье',\n",
       "       'поселок городского типа Лесогорский',\n",
       "       'поселок городского типа Назия',\n",
       "       'поселок городского типа Никольский',\n",
       "       'поселок городского типа Приладожский',\n",
       "       'поселок городского типа Рахья', 'поселок городского типа Рощино',\n",
       "       'поселок городского типа Рябово',\n",
       "       'поселок городского типа Синявино',\n",
       "       'поселок городского типа Советский',\n",
       "       'поселок городского типа Токсово',\n",
       "       'поселок городского типа Форносово',\n",
       "       'поселок городского типа имени Свердлова',\n",
       "       'поселок станции Вещево', 'поселок станции Корнево',\n",
       "       'поселок станции Лужайка', 'поселок станции Приветнинское',\n",
       "       'посёлок Александровская', 'посёлок Алексеевка', 'посёлок Аннино',\n",
       "       'посёлок Белоостров', 'посёлок Бугры', 'посёлок Возрождение',\n",
       "       'посёлок Войскорово', 'посёлок Высокоключевой',\n",
       "       'посёлок Гаврилово', 'посёлок Дзержинского', 'посёлок Жилгородок',\n",
       "       'посёлок Ильичёво', 'посёлок Кикерино', 'посёлок Кобралово',\n",
       "       'посёлок Коробицыно', 'посёлок Левашово', 'посёлок Ленинское',\n",
       "       'посёлок Лисий Нос', 'посёлок Мельниково', 'посёлок Металлострой',\n",
       "       'посёлок Мичуринское', 'посёлок Молодёжное', 'посёлок Мурино',\n",
       "       'посёлок Мыза-Ивановка', 'посёлок Новогорелово',\n",
       "       'посёлок Новый Свет', 'посёлок Пансионат Зелёный Бор',\n",
       "       'посёлок Парголово', 'посёлок Перово', 'посёлок Песочный',\n",
       "       'посёлок Петро-Славянка', 'посёлок Петровское',\n",
       "       'посёлок Платформа 69-й километр', 'посёлок Плодовое',\n",
       "       'посёлок Плоское', 'посёлок Победа', 'посёлок Поляны',\n",
       "       'посёлок Понтонный', 'посёлок Пригородный', 'посёлок Пудость',\n",
       "       'посёлок Репино', 'посёлок Ропша', 'посёлок Сапёрное',\n",
       "       'посёлок Сапёрный', 'посёлок Сосново', 'посёлок Старая Малукса',\n",
       "       'посёлок Стеклянный', 'посёлок Стрельна', 'посёлок Суйда',\n",
       "       'посёлок Сумино', 'посёлок Тельмана', 'посёлок Терволово',\n",
       "       'посёлок Торфяное', 'посёлок Усть-Ижора', 'посёлок Усть-Луга',\n",
       "       'посёлок Форт Красная Горка', 'посёлок Шугозеро', 'посёлок Шушары',\n",
       "       'посёлок Щеглово', 'посёлок городского типа Важины',\n",
       "       'посёлок городского типа Вознесенье',\n",
       "       'посёлок городского типа Вырица',\n",
       "       'посёлок городского типа Красный Бор',\n",
       "       'посёлок городского типа Кузнечное',\n",
       "       'посёлок городского типа Кузьмоловский',\n",
       "       'посёлок городского типа Лебяжье', 'посёлок городского типа Мга',\n",
       "       'посёлок городского типа Павлово',\n",
       "       'посёлок городского типа Рощино', 'посёлок городского типа Рябово',\n",
       "       'посёлок городского типа Сиверский',\n",
       "       'посёлок городского типа Тайцы', 'посёлок городского типа Токсово',\n",
       "       'посёлок городского типа Ульяновка',\n",
       "       'посёлок городского типа Форносово',\n",
       "       'посёлок городского типа имени Морозова',\n",
       "       'посёлок городского типа имени Свердлова',\n",
       "       'посёлок при железнодорожной станции Вещево',\n",
       "       'посёлок при железнодорожной станции Приветнинское',\n",
       "       'посёлок станции Громово', 'посёлок станции Свирь',\n",
       "       'садоводческое некоммерческое товарищество Лесная Поляна',\n",
       "       'садовое товарищество Новая Ропша',\n",
       "       'садовое товарищество Приладожский', 'садовое товарищество Рахья',\n",
       "       'садовое товарищество Садко', 'село Копорье', 'село Никольское',\n",
       "       'село Павлово', 'село Паша', 'село Путилово', 'село Рождествено',\n",
       "       'село Русско-Высоцкое', 'село Старая Ладога', 'село Шум', nan],\n",
       "      dtype=object)"
      ]
     },
     "execution_count": 17,
     "metadata": {},
     "output_type": "execute_result"
    }
   ],
   "source": [
    "data.locality_name.sort_values().unique() #вывожу уникальные значения столбца locality_name "
   ]
  },
  {
   "cell_type": "markdown",
   "metadata": {},
   "source": [
    "Чтобы избавиться от неявных повторов в locality_name приведем все к нижнему регистру и уберем типы населенных пунктов"
   ]
  },
  {
   "cell_type": "code",
   "execution_count": 18,
   "metadata": {},
   "outputs": [
    {
     "data": {
      "text/plain": [
       "0"
      ]
     },
     "execution_count": 18,
     "metadata": {},
     "output_type": "execute_result"
    }
   ],
   "source": [
    "data['locality_name'] = data['locality_name'].str.lower()#привожу к нижнему регистру\n",
    "\n",
    "#оставляю только названия\n",
    "data['locality_name'] = (\n",
    "    data['locality_name']\n",
    "    .str.replace('ё','е')\n",
    "    .replace(['поселок ','при железнодорожной станции ', 'платформа ', 'садоводческое некоммерческое товарищество ',\n",
    "             'садовое товарищество ', 'станции ', 'село ', 'пансионат ', 'городского типа ',\n",
    "             'деревня ', 'городской поселок '], '', regex=True)\n",
    ")\n",
    "data.duplicated().sum() #проверяю на наличие явных дубликатов"
   ]
  },
  {
   "cell_type": "code",
   "execution_count": 19,
   "metadata": {},
   "outputs": [
    {
     "data": {
      "text/plain": [
       "array(['69-й километр', 'агалатово', 'александровская', 'алексеевка',\n",
       "       'аннино', 'аро', 'барышево', 'батово', 'бегуницы', 'белогорка',\n",
       "       'белоостров', 'бокситогорск', 'большая вруда', 'большая ижора',\n",
       "       'большая пустомержа', 'большие колпаны', 'большое рейзино',\n",
       "       'большой сабск', 'бор', 'борисова грива', 'бугры', 'ваганово',\n",
       "       'важины', 'вартемяги', 'вахнова кара', 'вещево', 'вознесенье',\n",
       "       'возрождение', 'войсковицы', 'войскорово', 'володарское',\n",
       "       'волосово', 'волхов', 'всеволожск', 'выборг', 'вырица', 'выскатка',\n",
       "       'высокоключевой', 'высоцк', 'гаврилово', 'гарболово', 'гатчина',\n",
       "       'гладкое', 'глажево', 'глебычево', 'глинка', 'гончарово',\n",
       "       'горбунки', 'городской большая ижора', 'городской будогощь',\n",
       "       'городской виллози', 'городской лесогорский', 'городской мга',\n",
       "       'городской назия', 'городской новоселье', 'городской павлово',\n",
       "       'городской рощино', 'городской свирьстрой', 'городской советский',\n",
       "       'городской федоровское', 'городской янино-1', 'гостилицы',\n",
       "       'громово', 'дзержинского', 'дружная горка', 'дружноселье',\n",
       "       'дубровка', 'елизаветино', 'ефимовский', 'жилгородок',\n",
       "       'жилпоселок', 'житково', 'заводской', 'заклинье', 'заневка',\n",
       "       'запорожское', 'зеленогорск', 'зеленый бор', 'зимитицы',\n",
       "       'ивангород', 'извара', 'ильичево', 'имени морозова',\n",
       "       'имени свердлова', 'иссад', 'калитино', 'каложицы', 'кальтино',\n",
       "       'каменногорск', 'камышовка', 'каськово', 'келози', 'кикерино',\n",
       "       'кингисепп', 'кингисеппский', 'кипень', 'кириши', 'кировск',\n",
       "       'кирпичное', 'кисельня', 'кобралово', 'кобринское', 'колпино',\n",
       "       'колтуши', 'коммунар', 'коммунары', 'кондратьево', 'копорье',\n",
       "       'коркино', 'корнево', 'коробицыно', 'котельский', 'котлы',\n",
       "       'коттеджный кивеннапа север', 'коттеджный лесное',\n",
       "       'коттеджный счастье', 'красная долина', 'красное село',\n",
       "       'красносельское', 'красный бор', 'кривко', 'кронштадт', 'кудрово',\n",
       "       'кузнечное', 'кузьмолово', 'кузьмоловский', 'курковицы',\n",
       "       'куровицы', 'куттузи', 'лаврики', 'лаголово', 'лампово', 'лебяжье',\n",
       "       'левашово', 'ленинское', 'лесколово', 'лесная поляна', 'лесное',\n",
       "       'лесогорский', 'лисий нос', 'лодейное поле', 'ломоносов',\n",
       "       'лопухинка', 'луга', 'лужайка', 'лукаши', 'лупполово', 'любань',\n",
       "       'малая романовка', 'малое верево', 'малое карлино',\n",
       "       'малые колпаны', 'мануйлово', 'мга', 'мельниково', 'меньково',\n",
       "       'металлострой', 'мины', 'мистолово', 'мичуринское', 'молодежное',\n",
       "       'молодцово', 'мурино', 'мыза-ивановка', 'назия', 'ненимяки',\n",
       "       'нижние осельки', 'нижняя', 'низино', 'никольский', 'никольское',\n",
       "       'новая ладога', 'новая ропша', 'новогорелово', 'новое девяткино',\n",
       "       'новолисино', 'новый свет', 'новый учхоз', 'нурма', 'оредеж',\n",
       "       'оржицы', 'отрадное', 'павлово', 'павловск', 'парголово', 'парицы',\n",
       "       'паша', 'пельгора', 'пеники', 'первомайское', 'перово', 'песочный',\n",
       "       'петергоф', 'петро-славянка', 'петровское', 'пижма', 'пикалево',\n",
       "       'пикколово', 'плодовое', 'плоское', 'победа', 'подпорожье',\n",
       "       'поляны', 'понтонный', 'почап', 'починок', 'приветнинское',\n",
       "       'пригородный', 'приладожский', 'приморск', 'приозерск', 'пудомяги',\n",
       "       'пудость', 'пустынка', 'путилово', 'пушкин', 'пушное', 'пчева',\n",
       "       'пчевжа', 'рабитицы', 'разбегаево', 'раздолье', 'разметелево',\n",
       "       'рапполово', 'рахья', 'реброво', 'репино', 'рождествено',\n",
       "       'романовка', 'ромашки', 'ропша', 'рощино', 'русско',\n",
       "       'русско-высоцкое', 'рябово', 'садко', 'санкт-петербург',\n",
       "       'саперное', 'саперный', 'светогорск', 'свирь', 'севастьяново',\n",
       "       'селезнево', 'сельцо', 'семиозерье', 'семрино', 'серебрянский',\n",
       "       'сертолово', 'сестрорецк', 'сиверский', 'сижно', 'синявино',\n",
       "       'сланцы', 'снегиревка', 'советский', 'совхозный', 'сосново',\n",
       "       'сосновый бор', 'старая', 'старая ладога', 'старая малукса',\n",
       "       'старая пустошь', 'старое хинколово', 'старополье',\n",
       "       'старосиверская', 'старые бегуницы', 'стеклянный', 'стрельна',\n",
       "       'суйда', 'сумино', 'суоранда', 'суходолье', 'сяськелево',\n",
       "       'сясьстрой', 'тайцы', 'тарасово', 'тельмана', 'терволово',\n",
       "       'терпилицы', 'тесово-4', 'тихвин', 'тихковицы', 'тойворово',\n",
       "       'токсово', 'торковичи', 'торосово', 'торошковичи', 'торфяное',\n",
       "       'тосно', 'трубников бор', 'углово', 'ульяновка', 'усть-ижора',\n",
       "       'усть-луга', 'ушаки', 'фалилеево', 'федоровское', 'форносово',\n",
       "       'форт красная горка', 'хапо-ое', 'хязельки', 'цвелодубово',\n",
       "       'цвылево', 'чудской бор', 'шлиссельбург', 'шпаньково', 'шугозеро',\n",
       "       'шум', 'шушары', 'щеглово', 'юкки', 'ялгино', 'яльгелево',\n",
       "       'ям-тесово', nan], dtype=object)"
      ]
     },
     "execution_count": 19,
     "metadata": {},
     "output_type": "execute_result"
    }
   ],
   "source": [
    "data.locality_name.sort_values().unique() #вывожу уникальные значения столбца locality_name "
   ]
  },
  {
   "cell_type": "markdown",
   "metadata": {},
   "source": [
    "**Вывод:**\n",
    "В процессе предобработки данных были внесены следующие изменения:\n",
    "\n",
    "1. Название столбца cityCenters_nearest заменено на сity_centers_nearest\n",
    "\n",
    "2. Была ппроизведена замена пропусков в нескольких стобцах. В ceiling_height, floors_total, living_area, kitchen_area пропущенные значения заменены медианными. В столбце balcony пропуски заменены на 0. А в стобце is_apartment на False.\n",
    "\n",
    "3. Изменен тип данных в нескольких столбцах. Данные в столбце first_day_exposition теперь имеют тип datetime64. В столбцах floors_total и balcony тип данных заменен на int64. Дааные столбца is_apartment приведены к типу bool.\n",
    "\n",
    "4. Столбец locality_name избавлен от неявных дубликатов"
   ]
  },
  {
   "cell_type": "markdown",
   "metadata": {},
   "source": [
    "### Добавьте в таблицу новые столбцы"
   ]
  },
  {
   "cell_type": "markdown",
   "metadata": {},
   "source": [
    "В таблицу нужно добавить следующие столбцы:\n",
    "\n",
    "square_meter_price - цена одного квадратного метра (нужно поделить стоимость объекта на его общую площадь, а затем округлить до двух знаков после запятой);\n",
    "\n",
    "publication_day - день недели публикации объявления (0 — понедельник, 1 — вторник и так далее);\n",
    "\n",
    "publication_month - месяц публикации объявления;\n",
    "\n",
    "publication_year - год публикации объявления;\n",
    "\n",
    "floor_type - тип этажа квартиры (значения — «первый», «последний», «другой»);\n",
    "\n",
    "center_km - расстояние до центра города в километрах"
   ]
  },
  {
   "cell_type": "code",
   "execution_count": 20,
   "metadata": {},
   "outputs": [
    {
     "data": {
      "text/html": [
       "<div>\n",
       "<style scoped>\n",
       "    .dataframe tbody tr th:only-of-type {\n",
       "        vertical-align: middle;\n",
       "    }\n",
       "\n",
       "    .dataframe tbody tr th {\n",
       "        vertical-align: top;\n",
       "    }\n",
       "\n",
       "    .dataframe thead th {\n",
       "        text-align: right;\n",
       "    }\n",
       "</style>\n",
       "<table border=\"1\" class=\"dataframe\">\n",
       "  <thead>\n",
       "    <tr style=\"text-align: right;\">\n",
       "      <th></th>\n",
       "      <th>total_images</th>\n",
       "      <th>last_price</th>\n",
       "      <th>total_area</th>\n",
       "      <th>first_day_exposition</th>\n",
       "      <th>rooms</th>\n",
       "      <th>ceiling_height</th>\n",
       "      <th>floors_total</th>\n",
       "      <th>living_area</th>\n",
       "      <th>floor</th>\n",
       "      <th>is_apartment</th>\n",
       "      <th>...</th>\n",
       "      <th>parks_nearest</th>\n",
       "      <th>ponds_around3000</th>\n",
       "      <th>ponds_nearest</th>\n",
       "      <th>days_exposition</th>\n",
       "      <th>square_meter_price</th>\n",
       "      <th>publication_day</th>\n",
       "      <th>publication_month</th>\n",
       "      <th>publication_year</th>\n",
       "      <th>floor_type</th>\n",
       "      <th>center_km</th>\n",
       "    </tr>\n",
       "  </thead>\n",
       "  <tbody>\n",
       "    <tr>\n",
       "      <th>0</th>\n",
       "      <td>20</td>\n",
       "      <td>13000000.0</td>\n",
       "      <td>108.0</td>\n",
       "      <td>2019-03-07</td>\n",
       "      <td>3</td>\n",
       "      <td>2.70</td>\n",
       "      <td>16</td>\n",
       "      <td>51.0</td>\n",
       "      <td>8</td>\n",
       "      <td>False</td>\n",
       "      <td>...</td>\n",
       "      <td>482.0</td>\n",
       "      <td>2.0</td>\n",
       "      <td>755.0</td>\n",
       "      <td>NaN</td>\n",
       "      <td>120370.37</td>\n",
       "      <td>3</td>\n",
       "      <td>3</td>\n",
       "      <td>2019</td>\n",
       "      <td>другой</td>\n",
       "      <td>16.0</td>\n",
       "    </tr>\n",
       "    <tr>\n",
       "      <th>1</th>\n",
       "      <td>7</td>\n",
       "      <td>3350000.0</td>\n",
       "      <td>40.4</td>\n",
       "      <td>2018-12-04</td>\n",
       "      <td>1</td>\n",
       "      <td>2.65</td>\n",
       "      <td>11</td>\n",
       "      <td>18.6</td>\n",
       "      <td>1</td>\n",
       "      <td>False</td>\n",
       "      <td>...</td>\n",
       "      <td>NaN</td>\n",
       "      <td>0.0</td>\n",
       "      <td>NaN</td>\n",
       "      <td>81.0</td>\n",
       "      <td>82920.79</td>\n",
       "      <td>1</td>\n",
       "      <td>12</td>\n",
       "      <td>2018</td>\n",
       "      <td>первый</td>\n",
       "      <td>19.0</td>\n",
       "    </tr>\n",
       "    <tr>\n",
       "      <th>2</th>\n",
       "      <td>10</td>\n",
       "      <td>5196000.0</td>\n",
       "      <td>56.0</td>\n",
       "      <td>2015-08-20</td>\n",
       "      <td>2</td>\n",
       "      <td>2.65</td>\n",
       "      <td>5</td>\n",
       "      <td>34.3</td>\n",
       "      <td>4</td>\n",
       "      <td>False</td>\n",
       "      <td>...</td>\n",
       "      <td>90.0</td>\n",
       "      <td>2.0</td>\n",
       "      <td>574.0</td>\n",
       "      <td>558.0</td>\n",
       "      <td>92785.71</td>\n",
       "      <td>3</td>\n",
       "      <td>8</td>\n",
       "      <td>2015</td>\n",
       "      <td>другой</td>\n",
       "      <td>14.0</td>\n",
       "    </tr>\n",
       "    <tr>\n",
       "      <th>3</th>\n",
       "      <td>0</td>\n",
       "      <td>64900000.0</td>\n",
       "      <td>159.0</td>\n",
       "      <td>2015-07-24</td>\n",
       "      <td>3</td>\n",
       "      <td>2.65</td>\n",
       "      <td>14</td>\n",
       "      <td>30.0</td>\n",
       "      <td>9</td>\n",
       "      <td>False</td>\n",
       "      <td>...</td>\n",
       "      <td>84.0</td>\n",
       "      <td>3.0</td>\n",
       "      <td>234.0</td>\n",
       "      <td>424.0</td>\n",
       "      <td>408176.10</td>\n",
       "      <td>4</td>\n",
       "      <td>7</td>\n",
       "      <td>2015</td>\n",
       "      <td>другой</td>\n",
       "      <td>7.0</td>\n",
       "    </tr>\n",
       "    <tr>\n",
       "      <th>4</th>\n",
       "      <td>2</td>\n",
       "      <td>10000000.0</td>\n",
       "      <td>100.0</td>\n",
       "      <td>2018-06-19</td>\n",
       "      <td>2</td>\n",
       "      <td>3.03</td>\n",
       "      <td>14</td>\n",
       "      <td>32.0</td>\n",
       "      <td>13</td>\n",
       "      <td>False</td>\n",
       "      <td>...</td>\n",
       "      <td>112.0</td>\n",
       "      <td>1.0</td>\n",
       "      <td>48.0</td>\n",
       "      <td>121.0</td>\n",
       "      <td>100000.00</td>\n",
       "      <td>1</td>\n",
       "      <td>6</td>\n",
       "      <td>2018</td>\n",
       "      <td>другой</td>\n",
       "      <td>8.0</td>\n",
       "    </tr>\n",
       "  </tbody>\n",
       "</table>\n",
       "<p>5 rows × 28 columns</p>\n",
       "</div>"
      ],
      "text/plain": [
       "   total_images  last_price  total_area first_day_exposition  rooms  \\\n",
       "0            20  13000000.0       108.0           2019-03-07      3   \n",
       "1             7   3350000.0        40.4           2018-12-04      1   \n",
       "2            10   5196000.0        56.0           2015-08-20      2   \n",
       "3             0  64900000.0       159.0           2015-07-24      3   \n",
       "4             2  10000000.0       100.0           2018-06-19      2   \n",
       "\n",
       "   ceiling_height  floors_total  living_area  floor  is_apartment  ...  \\\n",
       "0            2.70            16         51.0      8         False  ...   \n",
       "1            2.65            11         18.6      1         False  ...   \n",
       "2            2.65             5         34.3      4         False  ...   \n",
       "3            2.65            14         30.0      9         False  ...   \n",
       "4            3.03            14         32.0     13         False  ...   \n",
       "\n",
       "   parks_nearest  ponds_around3000  ponds_nearest  days_exposition  \\\n",
       "0          482.0               2.0          755.0              NaN   \n",
       "1            NaN               0.0            NaN             81.0   \n",
       "2           90.0               2.0          574.0            558.0   \n",
       "3           84.0               3.0          234.0            424.0   \n",
       "4          112.0               1.0           48.0            121.0   \n",
       "\n",
       "  square_meter_price  publication_day  publication_month  publication_year  \\\n",
       "0          120370.37                3                  3              2019   \n",
       "1           82920.79                1                 12              2018   \n",
       "2           92785.71                3                  8              2015   \n",
       "3          408176.10                4                  7              2015   \n",
       "4          100000.00                1                  6              2018   \n",
       "\n",
       "   floor_type  center_km  \n",
       "0      другой       16.0  \n",
       "1      первый       19.0  \n",
       "2      другой       14.0  \n",
       "3      другой        7.0  \n",
       "4      другой        8.0  \n",
       "\n",
       "[5 rows x 28 columns]"
      ]
     },
     "execution_count": 20,
     "metadata": {},
     "output_type": "execute_result"
    }
   ],
   "source": [
    "#создаю столбец с ценой одного квадратного метра\n",
    "data['square_meter_price'] = (data['last_price'] / data['total_area']).round(2)\n",
    "\n",
    "#создаю столбец с днем недели публикации\n",
    "data['publication_day'] = data['first_day_exposition'].dt.weekday\n",
    "\n",
    "#создаю столбец с месяцем публикации\n",
    "data['publication_month'] = data['first_day_exposition'].dt.month\n",
    "\n",
    "#создаю столбец с годом публикации\n",
    "data['publication_year'] = data['first_day_exposition'].dt.year\n",
    "\n",
    "#создаю столбец с типом этажа квартиры\n",
    "def floor(row):\n",
    "    if row['floor'] == 1:\n",
    "        return 'первый'\n",
    "    if row['floor'] == row['floors_total']:\n",
    "        return 'последний'\n",
    "    else:\n",
    "        return 'другой'\n",
    "\n",
    "data['floor_type'] = data.apply(floor, axis=1)\n",
    "\n",
    "#создаю столбец с расстоянием от центра в километрах\n",
    "data['center_km'] = (data['city_centers_nearest'] / 1000).round(0)\n",
    "\n",
    "#вывожу первые строки таблицы\n",
    "data.head()"
   ]
  },
  {
   "cell_type": "code",
   "execution_count": 21,
   "metadata": {},
   "outputs": [
    {
     "data": {
      "text/plain": [
       "array(['другой', 'первый', 'последний'], dtype=object)"
      ]
     },
     "execution_count": 21,
     "metadata": {},
     "output_type": "execute_result"
    }
   ],
   "source": [
    "data['floor_type'].unique()#проверяю работу функции"
   ]
  },
  {
   "cell_type": "markdown",
   "metadata": {
    "id": "pPyxrKWTAwb-"
   },
   "source": [
    "### Проведите исследовательский анализ данных"
   ]
  },
  {
   "cell_type": "markdown",
   "metadata": {
    "id": "V2f0D3kLAwb-"
   },
   "source": [
    "Изучим отдельные параметры объектов недвижимости\n",
    "\n",
    "**Общая площадь**"
   ]
  },
  {
   "cell_type": "code",
   "execution_count": 22,
   "metadata": {},
   "outputs": [
    {
     "data": {
      "text/plain": [
       "count    23699.000000\n",
       "mean        60.348651\n",
       "std         35.654083\n",
       "min         12.000000\n",
       "25%         40.000000\n",
       "50%         52.000000\n",
       "75%         69.900000\n",
       "max        900.000000\n",
       "Name: total_area, dtype: float64"
      ]
     },
     "execution_count": 22,
     "metadata": {},
     "output_type": "execute_result"
    }
   ],
   "source": [
    "data['total_area'].describe()"
   ]
  },
  {
   "cell_type": "code",
   "execution_count": 23,
   "metadata": {},
   "outputs": [
    {
     "data": {
      "image/png": "[encoded data removed]",
      "text/plain": [
       "<Figure size 640x480 with 1 Axes>"
      ]
     },
     "metadata": {},
     "output_type": "display_data"
    }
   ],
   "source": [
    "data['total_area'].hist(bins=100, range=(12,100),legend='total_area')\n",
    "plt.show()"
   ]
  },
  {
   "cell_type": "markdown",
   "metadata": {},
   "source": [
    "**Вывод:**\n",
    "В наборе данных преобладают объекты общей площадью 40-48 кв.м."
   ]
  },
  {
   "cell_type": "markdown",
   "metadata": {},
   "source": [
    "**Жилая площадь**"
   ]
  },
  {
   "cell_type": "code",
   "execution_count": 24,
   "metadata": {},
   "outputs": [
    {
     "data": {
      "text/plain": [
       "count    23699.000000\n",
       "mean        34.099892\n",
       "std         21.162096\n",
       "min          2.000000\n",
       "25%         19.000000\n",
       "50%         30.000000\n",
       "75%         41.100000\n",
       "max        409.700000\n",
       "Name: living_area, dtype: float64"
      ]
     },
     "execution_count": 24,
     "metadata": {},
     "output_type": "execute_result"
    }
   ],
   "source": [
    "data['living_area'].describe()"
   ]
  },
  {
   "cell_type": "code",
   "execution_count": 25,
   "metadata": {},
   "outputs": [
    {
     "data": {
      "image/png": "[encoded data removed]",
      "text/plain": [
       "<Figure size 640x480 with 1 Axes>"
      ]
     },
     "metadata": {},
     "output_type": "display_data"
    }
   ],
   "source": [
    "data['living_area'].hist(bins=100, range=(2,80),legend='total_area')\n",
    "plt.show()"
   ]
  },
  {
   "cell_type": "markdown",
   "metadata": {},
   "source": [
    "**Вывод:** У большинства объектов недвижимости жилая площадь составляет 30 кв.м. Однако также наблюдается большое количество объектов жилой площадью менее 20 кв.м."
   ]
  },
  {
   "cell_type": "markdown",
   "metadata": {},
   "source": [
    "**Площадь кухни**"
   ]
  },
  {
   "cell_type": "code",
   "execution_count": 26,
   "metadata": {},
   "outputs": [
    {
     "data": {
      "text/plain": [
       "count    23699.000000\n",
       "mean        10.428526\n",
       "std          5.631126\n",
       "min          1.300000\n",
       "25%          7.400000\n",
       "50%          9.100000\n",
       "75%         11.440000\n",
       "max        112.000000\n",
       "Name: kitchen_area, dtype: float64"
      ]
     },
     "execution_count": 26,
     "metadata": {},
     "output_type": "execute_result"
    }
   ],
   "source": [
    "data['kitchen_area'].describe()"
   ]
  },
  {
   "cell_type": "code",
   "execution_count": 27,
   "metadata": {},
   "outputs": [
    {
     "data": {
      "image/png": "[encoded data removed]",
      "text/plain": [
       "<Figure size 640x480 with 1 Axes>"
      ]
     },
     "metadata": {},
     "output_type": "display_data"
    }
   ],
   "source": [
    "data['kitchen_area'].hist(bins=100, range=(1,11),legend='total_area')\n",
    "plt.show()"
   ]
  },
  {
   "cell_type": "markdown",
   "metadata": {},
   "source": [
    "**Вывод:** Наиболее часто встречаемая площадь кухни 6-11 кв. м. (чаще всего около 9)"
   ]
  },
  {
   "cell_type": "markdown",
   "metadata": {},
   "source": [
    "**Цена объекта**"
   ]
  },
  {
   "cell_type": "code",
   "execution_count": 28,
   "metadata": {},
   "outputs": [
    {
     "data": {
      "text/plain": [
       "count    2.369900e+04\n",
       "mean     6.541549e+06\n",
       "std      1.088701e+07\n",
       "min      1.219000e+04\n",
       "25%      3.400000e+06\n",
       "50%      4.650000e+06\n",
       "75%      6.800000e+06\n",
       "max      7.630000e+08\n",
       "Name: last_price, dtype: float64"
      ]
     },
     "execution_count": 28,
     "metadata": {},
     "output_type": "execute_result"
    }
   ],
   "source": [
    "data['last_price'].describe()"
   ]
  },
  {
   "cell_type": "code",
   "execution_count": 29,
   "metadata": {},
   "outputs": [
    {
     "data": {
      "image/png": "[encoded data removed]",
      "text/plain": [
       "<Figure size 640x480 with 1 Axes>"
      ]
     },
     "metadata": {},
     "output_type": "display_data"
    }
   ],
   "source": [
    "data['last_price'].hist(bins=100, range=(1.219000e+04,10.800000e+06),legend='last_price')\n",
    "plt.show()"
   ]
  },
  {
   "cell_type": "markdown",
   "metadata": {},
   "source": [
    "**Вывод:** наиболее часто цена объекта составляет 3,4 - 6,8 миллиона"
   ]
  },
  {
   "cell_type": "markdown",
   "metadata": {},
   "source": [
    "**Количество комнат**"
   ]
  },
  {
   "cell_type": "code",
   "execution_count": 30,
   "metadata": {},
   "outputs": [
    {
     "data": {
      "text/plain": [
       "count    23699.000000\n",
       "mean         2.070636\n",
       "std          1.078405\n",
       "min          0.000000\n",
       "25%          1.000000\n",
       "50%          2.000000\n",
       "75%          3.000000\n",
       "max         19.000000\n",
       "Name: rooms, dtype: float64"
      ]
     },
     "execution_count": 30,
     "metadata": {},
     "output_type": "execute_result"
    }
   ],
   "source": [
    "data['rooms'].describe()"
   ]
  },
  {
   "cell_type": "code",
   "execution_count": 31,
   "metadata": {},
   "outputs": [
    {
     "data": {
      "image/png": "[encoded data removed]",
      "text/plain": [
       "<Figure size 640x480 with 1 Axes>"
      ]
     },
     "metadata": {},
     "output_type": "display_data"
    }
   ],
   "source": [
    "data['rooms'].hist(bins=10, range=(0,10),legend='rooms')\n",
    "plt.show()"
   ]
  },
  {
   "cell_type": "markdown",
   "metadata": {},
   "source": [
    "**Вывод:** В основном на рынке представлены одно- и двухкомнатные квартиры"
   ]
  },
  {
   "cell_type": "markdown",
   "metadata": {},
   "source": [
    "**Высота потолков**"
   ]
  },
  {
   "cell_type": "code",
   "execution_count": 32,
   "metadata": {},
   "outputs": [
    {
     "data": {
      "text/plain": [
       "count    23699.000000\n",
       "mean         2.724358\n",
       "std          0.988298\n",
       "min          1.000000\n",
       "25%          2.600000\n",
       "50%          2.650000\n",
       "75%          2.700000\n",
       "max        100.000000\n",
       "Name: ceiling_height, dtype: float64"
      ]
     },
     "execution_count": 32,
     "metadata": {},
     "output_type": "execute_result"
    }
   ],
   "source": [
    "data['ceiling_height'].describe()"
   ]
  },
  {
   "cell_type": "markdown",
   "metadata": {},
   "source": [
    "Заменим очевидную аномалию в высоте потолков:"
   ]
  },
  {
   "cell_type": "code",
   "execution_count": 33,
   "metadata": {},
   "outputs": [
    {
     "data": {
      "image/png": "[encoded data removed]",
      "text/plain": [
       "<Figure size 640x480 with 1 Axes>"
      ]
     },
     "metadata": {},
     "output_type": "display_data"
    }
   ],
   "source": [
    "data.loc[data['ceiling_height'] >= 25.0, 'ceiling_height'] = data['ceiling_height']/10\n",
    "data['ceiling_height'].hist(bins=50, range=(2,4),legend='ceiling_height')\n",
    "plt.show()"
   ]
  },
  {
   "cell_type": "markdown",
   "metadata": {},
   "source": [
    "**Вывод:** После удаления аномальных значений, было выяснено, что в основном высота потолков в объектах недвижимости равна 2.65 м"
   ]
  },
  {
   "cell_type": "markdown",
   "metadata": {},
   "source": [
    "**Тип этажа квартиры**"
   ]
  },
  {
   "cell_type": "code",
   "execution_count": 34,
   "metadata": {},
   "outputs": [
    {
     "data": {
      "text/plain": [
       "<Axes: >"
      ]
     },
     "execution_count": 34,
     "metadata": {},
     "output_type": "execute_result"
    },
    {
     "data": {
      "image/png": "[encoded data removed]",
      "text/plain": [
       "<Figure size 640x480 with 1 Axes>"
      ]
     },
     "metadata": {},
     "output_type": "display_data"
    }
   ],
   "source": [
    "data['floor_type'].hist(bins=3,legend='floor_type')"
   ]
  },
  {
   "cell_type": "markdown",
   "metadata": {},
   "source": [
    "**Вывод:** Большая часть продаваемых квартир находится не на первом и последнем этажах"
   ]
  },
  {
   "cell_type": "markdown",
   "metadata": {},
   "source": [
    "**Общее количество этажей в доме**"
   ]
  },
  {
   "cell_type": "code",
   "execution_count": 35,
   "metadata": {},
   "outputs": [
    {
     "data": {
      "text/plain": [
       "count    23699.000000\n",
       "mean        10.667750\n",
       "std          6.585961\n",
       "min          1.000000\n",
       "25%          5.000000\n",
       "50%          9.000000\n",
       "75%         16.000000\n",
       "max         60.000000\n",
       "Name: floors_total, dtype: float64"
      ]
     },
     "execution_count": 35,
     "metadata": {},
     "output_type": "execute_result"
    }
   ],
   "source": [
    "data['floors_total'].describe()"
   ]
  },
  {
   "cell_type": "code",
   "execution_count": 36,
   "metadata": {},
   "outputs": [
    {
     "data": {
      "image/png": "[encoded data removed]",
      "text/plain": [
       "<Figure size 640x480 with 1 Axes>"
      ]
     },
     "metadata": {},
     "output_type": "display_data"
    }
   ],
   "source": [
    "data['floors_total'].hist(bins=30, range=(1,30),legend='floors_total')\n",
    "plt.show()"
   ]
  },
  {
   "cell_type": "markdown",
   "metadata": {},
   "source": [
    "**Вывод:** В основном продваемые квартиры находятся в 5- и 9-этажных домах"
   ]
  },
  {
   "cell_type": "markdown",
   "metadata": {},
   "source": [
    "**Расстояние до центра города**"
   ]
  },
  {
   "cell_type": "code",
   "execution_count": 37,
   "metadata": {},
   "outputs": [
    {
     "data": {
      "text/plain": [
       "count    18180.000000\n",
       "mean     14191.277833\n",
       "std       8608.386210\n",
       "min        181.000000\n",
       "25%       9238.000000\n",
       "50%      13098.500000\n",
       "75%      16293.000000\n",
       "max      65968.000000\n",
       "Name: city_centers_nearest, dtype: float64"
      ]
     },
     "execution_count": 37,
     "metadata": {},
     "output_type": "execute_result"
    }
   ],
   "source": [
    "data['city_centers_nearest'].describe()"
   ]
  },
  {
   "cell_type": "code",
   "execution_count": 38,
   "metadata": {},
   "outputs": [
    {
     "data": {
      "image/png": "[encoded data removed]",
      "text/plain": [
       "<Figure size 640x480 with 1 Axes>"
      ]
     },
     "metadata": {},
     "output_type": "display_data"
    }
   ],
   "source": [
    "data['city_centers_nearest'].hist(bins=100, range=(200,30000),legend='city_centers_nearest')\n",
    "plt.show()"
   ]
  },
  {
   "cell_type": "markdown",
   "metadata": {},
   "source": [
    "**Вывод:** Больше всего предложений о продаже на окраинах города (на расстоянии 12000 -18000 метров)), и на расстоянии в 5000 метров от центра города."
   ]
  },
  {
   "cell_type": "markdown",
   "metadata": {},
   "source": [
    "**Расстояние до ближайшего парка**"
   ]
  },
  {
   "cell_type": "code",
   "execution_count": 39,
   "metadata": {},
   "outputs": [
    {
     "data": {
      "text/plain": [
       "count    8079.000000\n",
       "mean      490.804555\n",
       "std       342.317995\n",
       "min         1.000000\n",
       "25%       288.000000\n",
       "50%       455.000000\n",
       "75%       612.000000\n",
       "max      3190.000000\n",
       "Name: parks_nearest, dtype: float64"
      ]
     },
     "execution_count": 39,
     "metadata": {},
     "output_type": "execute_result"
    }
   ],
   "source": [
    "data['parks_nearest'].describe()"
   ]
  },
  {
   "cell_type": "code",
   "execution_count": 40,
   "metadata": {},
   "outputs": [
    {
     "data": {
      "image/png": "[encoded data removed]",
      "text/plain": [
       "<Figure size 640x480 with 1 Axes>"
      ]
     },
     "metadata": {},
     "output_type": "display_data"
    }
   ],
   "source": [
    "data['parks_nearest'].hist(bins=100, range=(1,1500),legend='city_centers_nearest')\n",
    "plt.show()"
   ]
  },
  {
   "cell_type": "markdown",
   "metadata": {},
   "source": [
    "**Вывод:** Подавляющее большинство продающихся объектов недвижимости расположено в менее чем 800 м от парка"
   ]
  },
  {
   "cell_type": "markdown",
   "metadata": {},
   "source": [
    "**Общие выводы по разделу**\n",
    "1. В наборе данных преобладают объекты общей площадью 40-48 кв.м.\n",
    "2.  У большинства объектов недвижимости жилая площадь составляет 30 кв.м. Однако также наблюдается большое количество объектов жилой площадью менее 20 кв.м.\n",
    "3. Наиболее часто встречаемая площадь кухни 6-11 кв. м. (чаще всего около 9)\n",
    "4. Цена объекта недвижимости в основном составляет 3,4 - 6,8 миллиона\n",
    "5. В основном на рынке представлены одно- и двухкомнатные квартиры\n",
    "6. В основном высота потолков в объектах недвижимости равна 2.65 м\n",
    "7.  Большая часть продаваемых квартир находится не на первом и последнем этажах\n",
    "8.  основном продваемые квартиры находятся в 5- и 9-этажных домах\n",
    "9. Больше всего предложений о продаже на окраинах города (на расстоянии 12000 -18000 метров)), и на расстоянии в 5000 метров от центра города.\n",
    "10. Подавляющее большинство продающихся объектов недвижимости расположено в менее чем 800 м от парка\n",
    "\n",
    "**Заключение по разделу:**\n",
    "\n",
    "Среднестатистическое предложение, это квартира в пятиэтажном доме средней площадью 52 кв. м с кухней в 6 кв. м, высотой потолков 2,65 м, скорее всего однокомнатная или двухкомнатная с маленькими комнатками, на удалении 13 км. отцентра города."
   ]
  },
  {
   "cell_type": "markdown",
   "metadata": {},
   "source": [
    "Изучите, как быстро продавались квартиры (столбец days_exposition). Этот параметр показывает, сколько дней было размещено каждое объявление.\n",
    "Постройте гистограмму.\n",
    "Посчитайте среднее и медиану.\n",
    "В ячейке типа markdown опишите, сколько времени обычно занимает продажа. Какие продажи можно считать быстрыми, а какие — необычно долгими?"
   ]
  },
  {
   "cell_type": "markdown",
   "metadata": {},
   "source": [
    "**Исследование скорости продажи квартир**"
   ]
  },
  {
   "cell_type": "code",
   "execution_count": 41,
   "metadata": {},
   "outputs": [
    {
     "data": {
      "text/plain": [
       "count    20518.000000\n",
       "mean       180.888634\n",
       "std        219.727988\n",
       "min          1.000000\n",
       "25%         45.000000\n",
       "50%         95.000000\n",
       "75%        232.000000\n",
       "max       1580.000000\n",
       "Name: days_exposition, dtype: float64"
      ]
     },
     "execution_count": 41,
     "metadata": {},
     "output_type": "execute_result"
    }
   ],
   "source": [
    "data['days_exposition'].describe()"
   ]
  },
  {
   "cell_type": "code",
   "execution_count": 42,
   "metadata": {},
   "outputs": [
    {
     "data": {
      "image/png": "[encoded data removed]",
      "text/plain": [
       "<Figure size 640x480 with 1 Axes>"
      ]
     },
     "metadata": {},
     "output_type": "display_data"
    }
   ],
   "source": [
    "data['days_exposition'].hist(bins=100, range=(1,500),legend='days_exposition')\n",
    "plt.show()"
   ]
  },
  {
   "cell_type": "markdown",
   "metadata": {},
   "source": [
    "**Вывод:** В среднем квартиры продаются за 180 дней. 25% квартир продается менее чем за 45 дней, такие продажи можно назвать быстрыми. Медленными можно назвать продажи, которое присходят более чем через 7 месяцев после публикации объявления"
   ]
  },
  {
   "cell_type": "markdown",
   "metadata": {},
   "source": [
    "**Определение факторов, влияющих на общую (полную) стоимость объекта**"
   ]
  },
  {
   "cell_type": "markdown",
   "metadata": {},
   "source": [
    "Напишем функцию, которая будет строить диаграмму рассеяния и вычислять коэффициент Пирсона "
   ]
  },
  {
   "cell_type": "code",
   "execution_count": 43,
   "metadata": {},
   "outputs": [],
   "source": [
    "def plot_and_correlate(data, x, y):\n",
    "    \"\"\"\n",
    "    Строит диаграмму рассеяния между двумя переменными и \n",
    "    вычисляет коэффициент корреляции между ними.\n",
    "\n",
    "    data: DataFrame с данными.\n",
    "    x: Строка, название столбца для оси X.\n",
    "    y: Строка, название столбца для оси Y.\n",
    "    \"\"\"\n",
    "    if x not in data.columns or y not in data.columns:\n",
    "        raise ValueError(f'Оба столбца должны быть в DataFrame: {x}, {y}')\n",
    "\n",
    "    # Построение диаграммы рассеяния\n",
    "    data.plot(x=x, y=y, kind='scatter', grid=True)\n",
    "\n",
    "    # Вычисление коэффициента корреляции\n",
    "    correlation = data[x].corr(data[y])\n",
    "    print(f'Коэффициент корреляции между {x} и {y}: {correlation}')"
   ]
  },
  {
   "cell_type": "markdown",
   "metadata": {},
   "source": [
    "**Зависимость цены от общей площади объекта:**"
   ]
  },
  {
   "cell_type": "code",
   "execution_count": 44,
   "metadata": {},
   "outputs": [
    {
     "name": "stdout",
     "output_type": "stream",
     "text": [
      "Коэффициент корреляции между total_area и last_price: 0.653675057965725\n"
     ]
    },
    {
     "data": {
      "image/png": "[encoded data removed]",
      "text/plain": [
       "<Figure size 640x480 with 1 Axes>"
      ]
     },
     "metadata": {},
     "output_type": "display_data"
    }
   ],
   "source": [
    "plot_and_correlate(data, 'total_area', 'last_price')"
   ]
  },
  {
   "cell_type": "markdown",
   "metadata": {},
   "source": [
    "С ростом общей площади растет и цена, при этом также увеличивается разброс цен на объекты одинаковой площади"
   ]
  },
  {
   "cell_type": "markdown",
   "metadata": {},
   "source": [
    "**Зависимость цены от жилой площади объекта:**"
   ]
  },
  {
   "cell_type": "code",
   "execution_count": 45,
   "metadata": {},
   "outputs": [
    {
     "name": "stdout",
     "output_type": "stream",
     "text": [
      "Коэффициент корреляции между living_area и last_price: 0.5406588415034874\n"
     ]
    },
    {
     "data": {
      "image/png": "[encoded data removed]",
      "text/plain": [
       "<Figure size 640x480 with 1 Axes>"
      ]
     },
     "metadata": {},
     "output_type": "display_data"
    }
   ],
   "source": [
    "plot_and_correlate(data, 'living_area', 'last_price')"
   ]
  },
  {
   "cell_type": "markdown",
   "metadata": {},
   "source": [
    "C ростом жилой площади растет и цена, при этом также увеличивается разброс цен на объекты с одинаковой жилой площадью. Однако рассчитанный коэффциент корреляции ниже, чем аналогичный коэффициент для общей площади"
   ]
  },
  {
   "cell_type": "markdown",
   "metadata": {},
   "source": [
    "**Зависимость цены от площади кухни:**"
   ]
  },
  {
   "cell_type": "code",
   "execution_count": 46,
   "metadata": {},
   "outputs": [
    {
     "name": "stdout",
     "output_type": "stream",
     "text": [
      "Коэффициент корреляции между kitchen_area и last_price: 0.44031561243446554\n"
     ]
    },
    {
     "data": {
      "image/png": "[encoded data removed]",
      "text/plain": [
       "<Figure size 640x480 with 1 Axes>"
      ]
     },
     "metadata": {},
     "output_type": "display_data"
    }
   ],
   "source": [
    "plot_and_correlate(data, 'kitchen_area', 'last_price')"
   ]
  },
  {
   "cell_type": "markdown",
   "metadata": {},
   "source": [
    "С ростом площади кухни растет и цена, однако рассчитанный коэффциент корреляции ниже, чем аналогичный коэффициент для общей и жилой площади."
   ]
  },
  {
   "cell_type": "markdown",
   "metadata": {},
   "source": [
    "**Зависимость цены от количества комнат:**"
   ]
  },
  {
   "cell_type": "code",
   "execution_count": 47,
   "metadata": {},
   "outputs": [
    {
     "name": "stdout",
     "output_type": "stream",
     "text": [
      "Коэффициент корреляции между rooms и last_price: 0.3633428499648953\n"
     ]
    },
    {
     "data": {
      "image/png": "[encoded data removed]",
      "text/plain": [
       "<Figure size 640x480 with 1 Axes>"
      ]
     },
     "metadata": {},
     "output_type": "display_data"
    }
   ],
   "source": [
    "plot_and_correlate(data, 'rooms', 'last_price')"
   ]
  },
  {
   "cell_type": "markdown",
   "metadata": {},
   "source": [
    "C ростом количества комнат растет и цена, однако рассчитанный коэффциент корреляции ниже, чем аналогичный коэффициент для общей площади"
   ]
  },
  {
   "cell_type": "markdown",
   "metadata": {},
   "source": [
    "**Зависимость цены квартиры от этажа**"
   ]
  },
  {
   "cell_type": "code",
   "execution_count": 48,
   "metadata": {},
   "outputs": [
    {
     "data": {
      "text/plain": [
       "<Axes: xlabel='floor_type'>"
      ]
     },
     "execution_count": 48,
     "metadata": {},
     "output_type": "execute_result"
    },
    {
     "data": {
      "image/png": "[encoded data removed]",
      "text/plain": [
       "<Figure size 640x480 with 1 Axes>"
      ]
     },
     "metadata": {},
     "output_type": "display_data"
    }
   ],
   "source": [
    "data.groupby('floor_type')['last_price'].mean().plot(kind='bar', grid=True)"
   ]
  },
  {
   "cell_type": "markdown",
   "metadata": {},
   "source": [
    "Самая низкая цена у квартир на первом этаже, а выше всего цены на квартиры, находящиеся на последнем этаже."
   ]
  },
  {
   "cell_type": "markdown",
   "metadata": {},
   "source": [
    "**Зависимость цены от даты размещения**"
   ]
  },
  {
   "cell_type": "code",
   "execution_count": 49,
   "metadata": {},
   "outputs": [],
   "source": [
    "def plot_average_price_by_date(data, x, y):\n",
    "    \"\"\"\n",
    "    Строит график средней цены по дням публикации.\n",
    "\n",
    "    data: DataFrame, содержащий данные для построения графика.\n",
    "    x: Столбец DataFrame для оси X (должен содержать даты).\n",
    "    y: Столбец DataFrame для оси Y (должен содержать цены).\n",
    "    \"\"\"\n",
    "    # Проверяем, есть ли необходимые столбцы в DataFrame\n",
    "    if x not in data.columns or y not in data.columns:\n",
    "        raise ValueError(f\"DataFrame должен содержать столбцы '{x}' и '{y}'\")\n",
    "    \n",
    "    # Создаем сводную таблицу и строим график\n",
    "    data.pivot_table(index=x, values=y, aggfunc='mean').plot(\n",
    "        kind='bar',\n",
    "        grid=True,\n",
    "        figsize=(10, 6),\n",
    "    )\n",
    "    # Добавляем заголовок и метки\n",
    "    plt.xlabel(x)\n",
    "    plt.ylabel('Средняя цена')\n",
    "\n",
    "    # Отображаем график\n",
    "    plt.show()"
   ]
  },
  {
   "cell_type": "code",
   "execution_count": 50,
   "metadata": {},
   "outputs": [
    {
     "data": {
      "image/png": "[encoded data removed]",
      "text/plain": [
       "<Figure size 1000x600 with 1 Axes>"
      ]
     },
     "metadata": {},
     "output_type": "display_data"
    }
   ],
   "source": [
    "plot_average_price_by_date(data, 'publication_day', 'last_price')"
   ]
  },
  {
   "cell_type": "markdown",
   "metadata": {},
   "source": [
    "Цена квартиры не зависит сильно от дня недели, в который было опубликовано объявление. Онако можно заметить, что объявления о более дорогих квартирах публикуются в субботу"
   ]
  },
  {
   "cell_type": "code",
   "execution_count": 51,
   "metadata": {},
   "outputs": [
    {
     "data": {
      "image/png": "[encoded data removed]",
      "text/plain": [
       "<Figure size 1000x600 with 1 Axes>"
      ]
     },
     "metadata": {},
     "output_type": "display_data"
    }
   ],
   "source": [
    "plot_average_price_by_date(data, 'publication_month', 'last_price')"
   ]
  },
  {
   "cell_type": "markdown",
   "metadata": {},
   "source": [
    "Дешевле всего продавались квартиры, размещенные в объявлениях в октябре, а дороже всего - размещенные в декабре."
   ]
  },
  {
   "cell_type": "code",
   "execution_count": 52,
   "metadata": {},
   "outputs": [
    {
     "data": {
      "image/png": "[encoded data removed]",
      "text/plain": [
       "<Figure size 1000x600 with 1 Axes>"
      ]
     },
     "metadata": {},
     "output_type": "display_data"
    }
   ],
   "source": [
    "plot_average_price_by_date(data, 'publication_year', 'last_price')"
   ]
  },
  {
   "cell_type": "markdown",
   "metadata": {},
   "source": [
    "С 2014 года цены на квартиры падали, в 2018 году была самая низкая цена продаж, после чего цены вновь начали расти.\n",
    "Возможно уменьшение цены связано с уменьшением площади продаваемых квартир"
   ]
  },
  {
   "cell_type": "code",
   "execution_count": 53,
   "metadata": {},
   "outputs": [
    {
     "data": {
      "image/png": "[encoded data removed]",
      "text/plain": [
       "<Figure size 1000x600 with 1 Axes>"
      ]
     },
     "metadata": {},
     "output_type": "display_data"
    }
   ],
   "source": [
    "plot_average_price_by_date(data, 'publication_year', 'total_area')"
   ]
  },
  {
   "cell_type": "markdown",
   "metadata": {},
   "source": [
    "Действительно с 2014 по 2018 годы площадь продаваемых квартир уменьшалась, как и цена на них, в 2019 году площадь возросла и цены начали расти"
   ]
  },
  {
   "cell_type": "markdown",
   "metadata": {},
   "source": [
    "**Вывод:**\n",
    "\n",
    "1. Чем больше общая площадь, тем выше стоимость.\n",
    "2. Число комнат влияет на цену (больше комнат -> больше жилая площадь -> больше цена), однако зависимость ниже, чем у площади, так как бывают квартиры с большими по площади комнатами и квартиры в центре состоят из малого числа комнат, но стоят достаточно высоко.\n",
    "3. Первый этаж непосредственно влияет на стоимость квартиры - в среднем квартиры на 1-м этаже значительно дешевле.\n",
    "4. День недели и месяц публикации объявления не влияют на цену.\n",
    "5. С 2014 года цены на недвижимость падали до 2018. В 2019 снова начали расти. Это может быть связано с изменение площади продаваемых квартир"
   ]
  },
  {
   "cell_type": "markdown",
   "metadata": {},
   "source": [
    "**Средняя цена 1 кв. метра**"
   ]
  },
  {
   "cell_type": "markdown",
   "metadata": {},
   "source": [
    "Постиром сводную таблицу с количеством объявлений и средней ценой квадратного метра"
   ]
  },
  {
   "cell_type": "code",
   "execution_count": null,
   "metadata": {},
   "outputs": [],
   "source": [
    "data['price_per_m2'] = data['last_price'] / data['total_area'] # вычисляю цену за квадратный метр\n",
    "\n",
    "#создаю сводную таблицу\n",
    "price_per_m2_pivot_table = pd.pivot_table(\n",
    "    data,\n",
    "    values='price_per_m2',\n",
    "    index='locality_name',\n",
    "    aggfunc=['count', 'median'],\n",
    ")\n",
    "\n",
    "price_per_m2_pivot_table.columns = ['number_of_ads', 'median_price_per_m2']\n",
    "\n",
    "price_per_m2_pivot_table = price_per_m2_pivot_table.sort_values(by='number_of_ads', ascending=False)\n"
   ]
  },
  {
   "cell_type": "markdown",
   "metadata": {},
   "source": [
    "Цена одного квадратного метра в 10 населённых пунктах с наибольшим числом объявлений: "
   ]
  },
  {
   "cell_type": "code",
   "execution_count": null,
   "metadata": {
    "scrolled": true
   },
   "outputs": [],
   "source": [
    "price_per_m2_pivot_table.head(10)"
   ]
  },
  {
   "cell_type": "markdown",
   "metadata": {},
   "source": [
    "**Вывод:**\n",
    "\n",
    "Среди 10 населенных пунктов с наибольшим количеством объявлений максимальная стоимость квадратного метра наблюдается в Санкт-Петербурге, минимальная - в Выборге."
   ]
  },
  {
   "cell_type": "markdown",
   "metadata": {},
   "source": [
    "**Средняя стоимость для Санкт-Петербурга**"
   ]
  },
  {
   "cell_type": "code",
   "execution_count": null,
   "metadata": {},
   "outputs": [],
   "source": [
    "spb_data = data[data['locality_name'] == 'санкт-петербург'] #создаю новую таблицу для Санкт-Петербурга\n",
    "average_price_by_distance = spb_data.groupby('center_km')['last_price'].mean().reset_index() #группирую данные по расстоянию до центра\n",
    "plt.figure(figsize=(12, 6))\n",
    "plt.plot(average_price_by_distance['center_km'], average_price_by_distance['last_price'], marker='o')\n",
    "plt.title('Зависимость средней стоимости квартир от расстояния до центра Санкт-Петербурга')\n",
    "plt.xlabel('Расстояние до центра (км)')\n",
    "plt.ylabel('Средняя стоимость квартир')\n",
    "plt.grid()\n",
    "plt.show()"
   ]
  },
  {
   "cell_type": "markdown",
   "metadata": {},
   "source": [
    "**Вывод:**\n",
    "\n",
    "Самые дорогие квартиры в центре города и их стоимость значительно уменьшается c увеличением расстояния от центра города до 7 километров, далее стоимость падает не так быстро."
   ]
  },
  {
   "cell_type": "markdown",
   "metadata": {
    "id": "h7VpzkIDAwb-"
   },
   "source": [
    "### Напишите общий вывод"
   ]
  },
  {
   "cell_type": "markdown",
   "metadata": {},
   "source": [
    "В ходе исследования рынка недвижимости и анализа объявлений о продаже квартир были выполнены следующие этапы, а также сделаны соответствующие выводы:\n",
    "\n",
    "**1. Анализ информации о данных**\n",
    "\n",
    "В базе данных содержится 23699 записей. Обнаружены пропущенные значения в ряде столбцов, а также некорректные типы данных. На основе гистограмм можно сделать вывод о наличии аномальных значений. Явные дубликаты в данных отсутствуют. В целом, данные были признаны достаточными для дальнейшего анализа.\n",
    "\n",
    "**2. Предобработка данных**\n",
    "\n",
    "В процессе предобработки данных были внесены следующие изменения:\n",
    "\n",
    "Название столбца cityCenters_nearest заменено на сity_centers_nearest\n",
    "\n",
    "Была ппроизведена замена пропусков в нескольких стобцах. В ceiling_height, floors_total, living_area, kitchen_area пропущенные значения заменены медианными. В столбце balcony пропуски заменены на 0. А в стобце is_apartment на False.\n",
    "\n",
    "Изменен тип данных в нескольких столбцах. Данные в столбце first_day_exposition теперь имеют тип datetime64. В столбцах floors_total и balcony тип данных заменен на int64. Дааные столбца is_apartment приведены к типу bool.\n",
    "\n",
    "Столбец locality_name избавлен от неявных дубликатов\n",
    "\n",
    "**3. Исследовательский анализ данных**\n",
    "\n",
    "Анализ параметров позволил выявить среднестатистический тип предложения: это квартира в пятиэтажном доме средней площадью 52 квадратных метра, с кухней 6 квадратных метров и высотой потолков 2,65 метра. Скорее всего, это одно- или двухкомнатная квартира, находящаяся на расстоянии 5–13 км от центра города.\n",
    "\n",
    "Проведен анализ скорости продаж квартир. В среднем квартиры продаются за 180 дней. 25% квартир продается менее чем за 45 дней, такие продажи можно назвать быстрыми. Медленными можно назвать продажи, которое присходят более чем через 7 месяцев после публикации объявления При этом в наборе данных присутствуют необычно долгие продажи в течение 4-х лет и более.\n",
    "\n",
    "**4. Определение факторов влияния на стоимость**\n",
    "\n",
    "Установлены факторы, оказывающие значительное влияние на общую стоимость квартир:\n",
    "\n",
    "Корреляция между общей площадью и стоимостью жилья очень высока: чем больше площадь, тем дороже квартира.\n",
    "Число комнат также влияет на цену (большее количество комнат — больше жилая площадь — высокая цена), хотя зависимость этого параметра от стоимости меньше, поскольку встречаются квартиры с большими комнатами, находящиеся ближе к центру, которые стоят дороже, несмотря на малое количество комнат.\n",
    "Первый этаж существенно снижает стоимость квартиры, в то время как квартиры на последнем этаже оцениваются несколько выше. Наибольшая стоимость наблюдается у квартир, расположенных между первым и последним этажами.\n",
    "\n",
    "**5. Анализ средней стоимости квадратного метра**\n",
    "\n",
    "Изучена средняя стоимость одного квадратного метра в десяти населенных пунктах с наибольшим количеством объявлений.Среди 10 населенных пунктов с наибольшим количеством объявлений максимальная стоимость квадратного метра наблюдается в Санкт-Петербурге, минимальная - в Выборге.\n",
    "\n",
    "**6. Вычисление средней стоимости квартиры в зависимости от удаленности от центра**\n",
    "\n",
    "Выяснено, что самые дорогие квартиры находятся в центре города, а цены снижаются по мере увеличения расстояния до центра, достигая максимального снижения до 7 километров; далее стоимость практически не зависит от расстояния."
   ]
  }
 ],
 "metadata": {
  "ExecuteTimeLog": [
   {
    "duration": 759,
    "start_time": "2024-11-18T08:44:14.072Z"
   },
   {
    "duration": 13,
    "start_time": "2024-11-18T08:46:22.406Z"
   },
   {
    "duration": 60,
    "start_time": "2024-11-18T08:48:21.151Z"
   },
   {
    "duration": 114,
    "start_time": "2024-11-18T08:48:30.510Z"
   },
   {
    "duration": 29,
    "start_time": "2024-11-18T08:48:36.974Z"
   },
   {
    "duration": 2481,
    "start_time": "2024-11-18T08:49:35.686Z"
   },
   {
    "duration": 11,
    "start_time": "2024-11-18T08:58:00.744Z"
   },
   {
    "duration": 75,
    "start_time": "2024-11-18T09:06:20.858Z"
   },
   {
    "duration": 3,
    "start_time": "2024-11-18T09:06:35.418Z"
   },
   {
    "duration": 28,
    "start_time": "2024-11-18T09:06:39.386Z"
   },
   {
    "duration": 1998,
    "start_time": "2024-11-18T09:06:54.313Z"
   },
   {
    "duration": 9,
    "start_time": "2024-11-18T09:18:24.300Z"
   },
   {
    "duration": 21,
    "start_time": "2024-11-18T09:18:58.716Z"
   },
   {
    "duration": 17,
    "start_time": "2024-11-18T09:19:11.316Z"
   },
   {
    "duration": 18,
    "start_time": "2024-11-18T09:19:14.763Z"
   },
   {
    "duration": 14,
    "start_time": "2024-11-18T09:22:28.332Z"
   },
   {
    "duration": 31,
    "start_time": "2024-11-18T09:23:12.917Z"
   },
   {
    "duration": 10,
    "start_time": "2024-11-18T09:24:23.892Z"
   },
   {
    "duration": 5,
    "start_time": "2024-11-18T09:24:31.981Z"
   },
   {
    "duration": 10,
    "start_time": "2024-11-18T09:25:49.613Z"
   },
   {
    "duration": 12,
    "start_time": "2024-11-18T09:27:02.781Z"
   },
   {
    "duration": 10,
    "start_time": "2024-11-18T09:27:21.790Z"
   },
   {
    "duration": 13,
    "start_time": "2024-11-18T09:32:18.590Z"
   },
   {
    "duration": 8,
    "start_time": "2024-11-18T09:32:45.831Z"
   },
   {
    "duration": 10,
    "start_time": "2024-11-18T09:32:51.311Z"
   },
   {
    "duration": 5,
    "start_time": "2024-11-18T09:56:04.723Z"
   },
   {
    "duration": 7,
    "start_time": "2024-11-18T09:57:34.707Z"
   },
   {
    "duration": 8,
    "start_time": "2024-11-18T09:59:18.571Z"
   },
   {
    "duration": 10,
    "start_time": "2024-11-18T10:00:52.910Z"
   },
   {
    "duration": 10,
    "start_time": "2024-11-18T11:03:26.031Z"
   },
   {
    "duration": 9,
    "start_time": "2024-11-18T11:03:38.879Z"
   },
   {
    "duration": 4,
    "start_time": "2024-11-18T11:03:45.790Z"
   },
   {
    "duration": 9,
    "start_time": "2024-11-18T11:39:59.403Z"
   },
   {
    "duration": 4,
    "start_time": "2024-11-18T11:40:12.645Z"
   },
   {
    "duration": 5,
    "start_time": "2024-11-18T11:43:50.557Z"
   },
   {
    "duration": 10,
    "start_time": "2024-11-18T11:43:59.926Z"
   },
   {
    "duration": 16,
    "start_time": "2024-11-18T11:57:11.200Z"
   },
   {
    "duration": 22,
    "start_time": "2024-11-18T12:11:13.874Z"
   },
   {
    "duration": 15,
    "start_time": "2024-11-18T12:12:51.267Z"
   },
   {
    "duration": 6,
    "start_time": "2024-11-18T12:21:58.468Z"
   },
   {
    "duration": 20,
    "start_time": "2024-11-18T12:22:17.404Z"
   },
   {
    "duration": 23,
    "start_time": "2024-11-18T12:31:11.045Z"
   },
   {
    "duration": 54,
    "start_time": "2024-11-18T12:31:27.128Z"
   },
   {
    "duration": 22,
    "start_time": "2024-11-18T12:34:40.286Z"
   },
   {
    "duration": 3,
    "start_time": "2024-11-18T12:39:39.135Z"
   },
   {
    "duration": 21,
    "start_time": "2024-11-18T12:48:10.430Z"
   },
   {
    "duration": 251,
    "start_time": "2024-11-18T12:48:25.642Z"
   },
   {
    "duration": 309,
    "start_time": "2024-11-18T12:49:02.689Z"
   },
   {
    "duration": 28,
    "start_time": "2024-11-18T12:49:20.288Z"
   },
   {
    "duration": 63,
    "start_time": "2024-11-19T11:37:51.632Z"
   },
   {
    "duration": 3,
    "start_time": "2024-11-19T11:38:16.437Z"
   },
   {
    "duration": 42,
    "start_time": "2024-11-19T11:38:27.894Z"
   },
   {
    "duration": 739,
    "start_time": "2024-11-19T11:38:44.164Z"
   },
   {
    "duration": 30,
    "start_time": "2024-11-19T11:38:44.905Z"
   },
   {
    "duration": 2255,
    "start_time": "2024-11-19T11:38:44.936Z"
   },
   {
    "duration": 4,
    "start_time": "2024-11-19T11:38:47.192Z"
   },
   {
    "duration": 34,
    "start_time": "2024-11-19T11:38:47.197Z"
   },
   {
    "duration": 12,
    "start_time": "2024-11-19T11:38:47.232Z"
   },
   {
    "duration": 6,
    "start_time": "2024-11-19T11:38:47.245Z"
   },
   {
    "duration": 14,
    "start_time": "2024-11-19T11:38:47.252Z"
   },
   {
    "duration": 17,
    "start_time": "2024-11-19T11:38:47.267Z"
   },
   {
    "duration": 7,
    "start_time": "2024-11-19T11:38:47.287Z"
   },
   {
    "duration": 32,
    "start_time": "2024-11-19T11:38:47.296Z"
   },
   {
    "duration": 13,
    "start_time": "2024-11-19T11:38:47.329Z"
   },
   {
    "duration": 14,
    "start_time": "2024-11-19T11:38:47.343Z"
   },
   {
    "duration": 30,
    "start_time": "2024-11-19T11:38:47.358Z"
   },
   {
    "duration": 19,
    "start_time": "2024-11-19T11:38:47.389Z"
   },
   {
    "duration": 263,
    "start_time": "2024-11-19T11:38:47.410Z"
   },
   {
    "duration": 26,
    "start_time": "2024-11-19T11:38:47.674Z"
   },
   {
    "duration": 30,
    "start_time": "2024-11-19T11:38:47.701Z"
   },
   {
    "duration": 4,
    "start_time": "2024-11-19T11:38:49.958Z"
   },
   {
    "duration": 813,
    "start_time": "2024-11-19T11:56:46.930Z"
   },
   {
    "duration": 356,
    "start_time": "2024-11-19T11:58:29.418Z"
   },
   {
    "duration": 174,
    "start_time": "2024-11-19T12:29:36.391Z"
   },
   {
    "duration": 793,
    "start_time": "2024-11-19T12:31:00.337Z"
   },
   {
    "duration": 36,
    "start_time": "2024-11-19T12:31:01.132Z"
   },
   {
    "duration": 1973,
    "start_time": "2024-11-19T12:31:01.170Z"
   },
   {
    "duration": 4,
    "start_time": "2024-11-19T12:31:03.145Z"
   },
   {
    "duration": 75,
    "start_time": "2024-11-19T12:31:03.150Z"
   },
   {
    "duration": 7,
    "start_time": "2024-11-19T12:31:03.227Z"
   },
   {
    "duration": 37,
    "start_time": "2024-11-19T12:31:03.236Z"
   },
   {
    "duration": 68,
    "start_time": "2024-11-19T12:31:03.275Z"
   },
   {
    "duration": 71,
    "start_time": "2024-11-19T12:31:03.345Z"
   },
   {
    "duration": 8,
    "start_time": "2024-11-19T12:31:03.418Z"
   },
   {
    "duration": 79,
    "start_time": "2024-11-19T12:31:03.428Z"
   },
   {
    "duration": 87,
    "start_time": "2024-11-19T12:31:03.509Z"
   },
   {
    "duration": 54,
    "start_time": "2024-11-19T12:31:03.598Z"
   },
   {
    "duration": 50,
    "start_time": "2024-11-19T12:31:03.654Z"
   },
   {
    "duration": 58,
    "start_time": "2024-11-19T12:31:03.705Z"
   },
   {
    "duration": 269,
    "start_time": "2024-11-19T12:31:03.764Z"
   },
   {
    "duration": 30,
    "start_time": "2024-11-19T12:31:04.034Z"
   },
   {
    "duration": 394,
    "start_time": "2024-11-19T12:31:04.065Z"
   },
   {
    "duration": 174,
    "start_time": "2024-11-19T12:31:04.461Z"
   },
   {
    "duration": 10,
    "start_time": "2024-11-19T12:32:03.080Z"
   },
   {
    "duration": 271,
    "start_time": "2024-11-19T12:32:30.727Z"
   },
   {
    "duration": 326,
    "start_time": "2024-11-19T12:32:47.416Z"
   },
   {
    "duration": 266,
    "start_time": "2024-11-19T12:33:59.696Z"
   },
   {
    "duration": 267,
    "start_time": "2024-11-19T12:34:26.128Z"
   },
   {
    "duration": 49,
    "start_time": "2024-11-19T12:35:55.057Z"
   },
   {
    "duration": 8,
    "start_time": "2024-11-19T12:37:38.305Z"
   },
   {
    "duration": 259,
    "start_time": "2024-11-19T12:40:46.523Z"
   },
   {
    "duration": 271,
    "start_time": "2024-11-19T12:41:44.507Z"
   },
   {
    "duration": 9,
    "start_time": "2024-11-19T12:48:38.763Z"
   },
   {
    "duration": 377,
    "start_time": "2024-11-19T12:49:31.223Z"
   },
   {
    "duration": 277,
    "start_time": "2024-11-19T12:49:39.003Z"
   },
   {
    "duration": 255,
    "start_time": "2024-11-19T12:50:38.147Z"
   },
   {
    "duration": 68,
    "start_time": "2024-11-19T12:53:58.356Z"
   },
   {
    "duration": 9,
    "start_time": "2024-11-19T12:54:04.206Z"
   },
   {
    "duration": 279,
    "start_time": "2024-11-19T12:55:33.572Z"
   },
   {
    "duration": 257,
    "start_time": "2024-11-19T12:55:46.924Z"
   },
   {
    "duration": 271,
    "start_time": "2024-11-19T12:55:59.284Z"
   },
   {
    "duration": 8,
    "start_time": "2024-11-19T13:01:48.366Z"
   },
   {
    "duration": 236,
    "start_time": "2024-11-19T13:03:49.445Z"
   },
   {
    "duration": 140,
    "start_time": "2024-11-19T13:03:57.077Z"
   },
   {
    "duration": 9,
    "start_time": "2024-11-19T13:12:38.743Z"
   },
   {
    "duration": 14,
    "start_time": "2024-11-19T13:16:37.352Z"
   },
   {
    "duration": 4,
    "start_time": "2024-11-19T13:16:54.514Z"
   },
   {
    "duration": 4,
    "start_time": "2024-11-19T13:17:09.431Z"
   },
   {
    "duration": 148,
    "start_time": "2024-11-19T13:18:01.863Z"
   },
   {
    "duration": 143,
    "start_time": "2024-11-19T13:18:22.138Z"
   },
   {
    "duration": 260,
    "start_time": "2024-11-19T13:18:27.840Z"
   },
   {
    "duration": 260,
    "start_time": "2024-11-19T13:18:38.960Z"
   },
   {
    "duration": 222,
    "start_time": "2024-11-19T13:18:47.608Z"
   },
   {
    "duration": 195,
    "start_time": "2024-11-19T13:18:55.648Z"
   },
   {
    "duration": 6,
    "start_time": "2024-11-19T13:25:30.658Z"
   },
   {
    "duration": 8,
    "start_time": "2024-11-19T13:25:43.048Z"
   },
   {
    "duration": 245,
    "start_time": "2024-11-19T13:26:06.219Z"
   },
   {
    "duration": 217,
    "start_time": "2024-11-19T13:26:49.170Z"
   },
   {
    "duration": 149,
    "start_time": "2024-11-19T13:27:26.298Z"
   },
   {
    "duration": 215,
    "start_time": "2024-11-19T13:27:39.010Z"
   },
   {
    "duration": 9,
    "start_time": "2024-11-19T13:35:27.619Z"
   },
   {
    "duration": 267,
    "start_time": "2024-11-19T13:36:47.547Z"
   },
   {
    "duration": 256,
    "start_time": "2024-11-19T13:36:56.683Z"
   },
   {
    "duration": 196,
    "start_time": "2024-11-19T13:37:04.147Z"
   },
   {
    "duration": 174,
    "start_time": "2024-11-19T13:37:10.421Z"
   },
   {
    "duration": 50,
    "start_time": "2024-11-19T13:44:49.125Z"
   },
   {
    "duration": 9,
    "start_time": "2024-11-19T13:44:54.821Z"
   },
   {
    "duration": 354,
    "start_time": "2024-11-19T13:47:34.790Z"
   },
   {
    "duration": 10,
    "start_time": "2024-11-19T13:51:15.590Z"
   },
   {
    "duration": 294,
    "start_time": "2024-11-19T13:52:28.630Z"
   },
   {
    "duration": 252,
    "start_time": "2024-11-19T13:52:36.430Z"
   },
   {
    "duration": 73,
    "start_time": "2024-11-20T08:25:58.165Z"
   },
   {
    "duration": 49,
    "start_time": "2024-11-20T08:27:49.805Z"
   },
   {
    "duration": 1136,
    "start_time": "2024-11-20T08:27:57.981Z"
   },
   {
    "duration": 29,
    "start_time": "2024-11-20T08:27:59.120Z"
   },
   {
    "duration": 2063,
    "start_time": "2024-11-20T08:27:59.150Z"
   },
   {
    "duration": 5,
    "start_time": "2024-11-20T08:28:01.215Z"
   },
   {
    "duration": 39,
    "start_time": "2024-11-20T08:28:01.221Z"
   },
   {
    "duration": 17,
    "start_time": "2024-11-20T08:28:01.262Z"
   },
   {
    "duration": 63,
    "start_time": "2024-11-20T08:28:01.281Z"
   },
   {
    "duration": 76,
    "start_time": "2024-11-20T08:28:01.346Z"
   },
   {
    "duration": 40,
    "start_time": "2024-11-20T08:28:01.424Z"
   },
   {
    "duration": 14,
    "start_time": "2024-11-20T08:28:01.467Z"
   },
   {
    "duration": 44,
    "start_time": "2024-11-20T08:28:01.482Z"
   },
   {
    "duration": 38,
    "start_time": "2024-11-20T08:28:01.527Z"
   },
   {
    "duration": 45,
    "start_time": "2024-11-20T08:28:01.566Z"
   },
   {
    "duration": 54,
    "start_time": "2024-11-20T08:28:01.613Z"
   },
   {
    "duration": 37,
    "start_time": "2024-11-20T08:28:01.669Z"
   },
   {
    "duration": 349,
    "start_time": "2024-11-20T08:28:01.708Z"
   },
   {
    "duration": 25,
    "start_time": "2024-11-20T08:28:02.060Z"
   },
   {
    "duration": 393,
    "start_time": "2024-11-20T08:28:02.087Z"
   },
   {
    "duration": 22,
    "start_time": "2024-11-20T08:28:02.482Z"
   },
   {
    "duration": 343,
    "start_time": "2024-11-20T08:28:02.506Z"
   },
   {
    "duration": 8,
    "start_time": "2024-11-20T08:28:02.851Z"
   },
   {
    "duration": 493,
    "start_time": "2024-11-20T08:28:02.860Z"
   },
   {
    "duration": 9,
    "start_time": "2024-11-20T08:28:03.354Z"
   },
   {
    "duration": 358,
    "start_time": "2024-11-20T08:28:03.365Z"
   },
   {
    "duration": 10,
    "start_time": "2024-11-20T08:28:03.724Z"
   },
   {
    "duration": 306,
    "start_time": "2024-11-20T08:28:03.736Z"
   },
   {
    "duration": 9,
    "start_time": "2024-11-20T08:28:04.044Z"
   },
   {
    "duration": 280,
    "start_time": "2024-11-20T08:28:04.058Z"
   },
   {
    "duration": 10,
    "start_time": "2024-11-20T08:28:04.340Z"
   },
   {
    "duration": 244,
    "start_time": "2024-11-20T08:28:04.351Z"
   },
   {
    "duration": 143,
    "start_time": "2024-11-20T08:28:04.599Z"
   },
   {
    "duration": 9,
    "start_time": "2024-11-20T08:28:04.744Z"
   },
   {
    "duration": 311,
    "start_time": "2024-11-20T08:28:04.755Z"
   },
   {
    "duration": 15,
    "start_time": "2024-11-20T08:28:05.068Z"
   },
   {
    "duration": 434,
    "start_time": "2024-11-20T08:28:05.085Z"
   },
   {
    "duration": 10,
    "start_time": "2024-11-20T08:28:05.521Z"
   },
   {
    "duration": 307,
    "start_time": "2024-11-20T08:28:05.532Z"
   },
   {
    "duration": 1225,
    "start_time": "2024-11-20T08:28:05.841Z"
   },
   {
    "duration": 18,
    "start_time": "2024-11-20T08:28:31.898Z"
   },
   {
    "duration": 359,
    "start_time": "2024-11-20T08:30:04.890Z"
   },
   {
    "duration": 70,
    "start_time": "2024-11-20T08:41:16.070Z"
   },
   {
    "duration": 17,
    "start_time": "2024-11-20T09:04:48.394Z"
   },
   {
    "duration": 10,
    "start_time": "2024-11-20T09:05:37.283Z"
   },
   {
    "duration": 423,
    "start_time": "2024-11-20T09:06:20.492Z"
   },
   {
    "duration": 877,
    "start_time": "2024-11-20T09:06:33.450Z"
   },
   {
    "duration": 39,
    "start_time": "2024-11-20T09:06:34.339Z"
   },
   {
    "duration": 2351,
    "start_time": "2024-11-20T09:06:34.380Z"
   },
   {
    "duration": 4,
    "start_time": "2024-11-20T09:06:36.735Z"
   },
   {
    "duration": 103,
    "start_time": "2024-11-20T09:06:36.740Z"
   },
   {
    "duration": 15,
    "start_time": "2024-11-20T09:06:36.846Z"
   },
   {
    "duration": 42,
    "start_time": "2024-11-20T09:06:36.863Z"
   },
   {
    "duration": 31,
    "start_time": "2024-11-20T09:06:36.906Z"
   },
   {
    "duration": 21,
    "start_time": "2024-11-20T09:06:36.939Z"
   },
   {
    "duration": 8,
    "start_time": "2024-11-20T09:06:36.963Z"
   },
   {
    "duration": 50,
    "start_time": "2024-11-20T09:06:36.973Z"
   },
   {
    "duration": 3,
    "start_time": "2024-11-20T09:06:37.028Z"
   },
   {
    "duration": 25,
    "start_time": "2024-11-20T09:06:37.033Z"
   },
   {
    "duration": 22,
    "start_time": "2024-11-20T09:06:37.059Z"
   },
   {
    "duration": 44,
    "start_time": "2024-11-20T09:06:37.083Z"
   },
   {
    "duration": 374,
    "start_time": "2024-11-20T09:06:37.128Z"
   },
   {
    "duration": 43,
    "start_time": "2024-11-20T09:06:37.506Z"
   },
   {
    "duration": 408,
    "start_time": "2024-11-20T09:06:37.551Z"
   },
   {
    "duration": 9,
    "start_time": "2024-11-20T09:06:37.960Z"
   },
   {
    "duration": 338,
    "start_time": "2024-11-20T09:06:37.971Z"
   },
   {
    "duration": 10,
    "start_time": "2024-11-20T09:06:38.311Z"
   },
   {
    "duration": 454,
    "start_time": "2024-11-20T09:06:38.323Z"
   },
   {
    "duration": 10,
    "start_time": "2024-11-20T09:06:38.779Z"
   },
   {
    "duration": 294,
    "start_time": "2024-11-20T09:06:38.799Z"
   },
   {
    "duration": 14,
    "start_time": "2024-11-20T09:06:39.095Z"
   },
   {
    "duration": 415,
    "start_time": "2024-11-20T09:06:39.119Z"
   },
   {
    "duration": 9,
    "start_time": "2024-11-20T09:06:39.536Z"
   },
   {
    "duration": 186,
    "start_time": "2024-11-20T09:06:39.549Z"
   },
   {
    "duration": 10,
    "start_time": "2024-11-20T09:06:39.739Z"
   },
   {
    "duration": 260,
    "start_time": "2024-11-20T09:06:39.751Z"
   },
   {
    "duration": 142,
    "start_time": "2024-11-20T09:06:40.019Z"
   },
   {
    "duration": 9,
    "start_time": "2024-11-20T09:06:40.163Z"
   },
   {
    "duration": 265,
    "start_time": "2024-11-20T09:06:40.174Z"
   },
   {
    "duration": 12,
    "start_time": "2024-11-20T09:06:40.444Z"
   },
   {
    "duration": 424,
    "start_time": "2024-11-20T09:06:40.457Z"
   },
   {
    "duration": 26,
    "start_time": "2024-11-20T09:06:40.883Z"
   },
   {
    "duration": 307,
    "start_time": "2024-11-20T09:06:40.911Z"
   },
   {
    "duration": 11,
    "start_time": "2024-11-20T09:06:41.220Z"
   },
   {
    "duration": 338,
    "start_time": "2024-11-20T09:06:41.236Z"
   },
   {
    "duration": 47,
    "start_time": "2024-11-20T09:06:41.576Z"
   },
   {
    "duration": 218,
    "start_time": "2024-11-20T09:48:03.978Z"
   },
   {
    "duration": 203,
    "start_time": "2024-11-20T09:53:14.515Z"
   },
   {
    "duration": 9,
    "start_time": "2024-11-20T09:55:07.323Z"
   },
   {
    "duration": 8,
    "start_time": "2024-11-20T10:00:22.699Z"
   },
   {
    "duration": 277,
    "start_time": "2024-11-20T10:00:28.515Z"
   },
   {
    "duration": 244,
    "start_time": "2024-11-20T10:08:44.851Z"
   },
   {
    "duration": 211,
    "start_time": "2024-11-20T10:10:25.492Z"
   },
   {
    "duration": 72,
    "start_time": "2024-11-20T10:11:10.948Z"
   },
   {
    "duration": 209,
    "start_time": "2024-11-20T10:14:01.661Z"
   },
   {
    "duration": 0,
    "start_time": "2024-11-20T10:32:03.586Z"
   },
   {
    "duration": 118,
    "start_time": "2024-11-20T10:49:27.867Z"
   },
   {
    "duration": 69,
    "start_time": "2024-11-20T10:49:33.251Z"
   },
   {
    "duration": 68,
    "start_time": "2024-11-20T10:49:51.130Z"
   },
   {
    "duration": 222,
    "start_time": "2024-11-20T10:50:09.911Z"
   },
   {
    "duration": 155,
    "start_time": "2024-11-20T10:50:20.562Z"
   },
   {
    "duration": 115,
    "start_time": "2024-11-20T10:51:55.124Z"
   },
   {
    "duration": 68,
    "start_time": "2024-11-20T10:51:59.527Z"
   },
   {
    "duration": 373,
    "start_time": "2024-11-20T10:56:24.323Z"
   },
   {
    "duration": 180,
    "start_time": "2024-11-20T10:57:14.365Z"
   },
   {
    "duration": 17,
    "start_time": "2024-11-20T11:00:54.624Z"
   },
   {
    "duration": 128,
    "start_time": "2024-11-20T11:01:10.766Z"
   },
   {
    "duration": 505,
    "start_time": "2024-11-20T11:03:21.817Z"
   },
   {
    "duration": 135,
    "start_time": "2024-11-20T11:03:36.336Z"
   },
   {
    "duration": 5,
    "start_time": "2024-11-20T11:20:32.764Z"
   },
   {
    "duration": 193,
    "start_time": "2024-11-20T11:21:38.041Z"
   },
   {
    "duration": 235,
    "start_time": "2024-11-20T11:22:12.298Z"
   },
   {
    "duration": 12,
    "start_time": "2024-11-20T11:24:14.499Z"
   },
   {
    "duration": 18,
    "start_time": "2024-11-20T11:24:16.645Z"
   },
   {
    "duration": 6,
    "start_time": "2024-11-20T11:25:11.276Z"
   },
   {
    "duration": 257,
    "start_time": "2024-11-20T11:25:14.163Z"
   },
   {
    "duration": 237,
    "start_time": "2024-11-20T11:25:25.555Z"
   },
   {
    "duration": 203,
    "start_time": "2024-11-20T11:26:13.251Z"
   },
   {
    "duration": 64,
    "start_time": "2024-11-20T11:32:20.187Z"
   },
   {
    "duration": 30,
    "start_time": "2024-11-20T12:16:45.436Z"
   },
   {
    "duration": 41,
    "start_time": "2024-11-20T12:20:25.608Z"
   },
   {
    "duration": 29,
    "start_time": "2024-11-20T12:22:56.051Z"
   },
   {
    "duration": 8,
    "start_time": "2024-11-20T12:24:27.490Z"
   },
   {
    "duration": 26,
    "start_time": "2024-11-20T12:41:18.417Z"
   },
   {
    "duration": 1272,
    "start_time": "2024-11-20T12:42:49.799Z"
   },
   {
    "duration": 1350,
    "start_time": "2024-11-20T12:43:05.148Z"
   },
   {
    "duration": 216,
    "start_time": "2024-11-20T12:43:18.521Z"
   },
   {
    "duration": 209,
    "start_time": "2024-11-20T12:44:05.976Z"
   },
   {
    "duration": 205,
    "start_time": "2024-11-20T12:44:14.887Z"
   },
   {
    "duration": 35,
    "start_time": "2024-11-20T12:44:53.686Z"
   },
   {
    "duration": 56,
    "start_time": "2024-11-20T12:45:09.139Z"
   },
   {
    "duration": 262,
    "start_time": "2024-11-20T12:45:22.116Z"
   },
   {
    "duration": 232,
    "start_time": "2024-11-20T12:53:50.177Z"
   },
   {
    "duration": 185,
    "start_time": "2024-11-20T13:04:06.911Z"
   },
   {
    "duration": 17,
    "start_time": "2024-11-20T13:04:46.531Z"
   },
   {
    "duration": 25,
    "start_time": "2024-11-20T13:05:04.020Z"
   },
   {
    "duration": 924,
    "start_time": "2024-11-20T13:16:30.722Z"
   },
   {
    "duration": 28,
    "start_time": "2024-11-20T13:16:31.652Z"
   },
   {
    "duration": 2483,
    "start_time": "2024-11-20T13:16:31.682Z"
   },
   {
    "duration": 4,
    "start_time": "2024-11-20T13:16:34.168Z"
   },
   {
    "duration": 20,
    "start_time": "2024-11-20T13:16:34.175Z"
   },
   {
    "duration": 55,
    "start_time": "2024-11-20T13:16:34.197Z"
   },
   {
    "duration": 9,
    "start_time": "2024-11-20T13:16:34.262Z"
   },
   {
    "duration": 17,
    "start_time": "2024-11-20T13:16:34.273Z"
   },
   {
    "duration": 44,
    "start_time": "2024-11-20T13:16:34.293Z"
   },
   {
    "duration": 41,
    "start_time": "2024-11-20T13:16:34.341Z"
   },
   {
    "duration": 10,
    "start_time": "2024-11-20T13:16:34.384Z"
   },
   {
    "duration": 52,
    "start_time": "2024-11-20T13:16:34.396Z"
   },
   {
    "duration": 24,
    "start_time": "2024-11-20T13:16:34.455Z"
   },
   {
    "duration": 46,
    "start_time": "2024-11-20T13:16:34.481Z"
   },
   {
    "duration": 42,
    "start_time": "2024-11-20T13:16:34.529Z"
   },
   {
    "duration": 417,
    "start_time": "2024-11-20T13:16:34.573Z"
   },
   {
    "duration": 53,
    "start_time": "2024-11-20T13:16:34.992Z"
   },
   {
    "duration": 488,
    "start_time": "2024-11-20T13:16:35.047Z"
   },
   {
    "duration": 18,
    "start_time": "2024-11-20T13:16:35.537Z"
   },
   {
    "duration": 322,
    "start_time": "2024-11-20T13:16:35.557Z"
   },
   {
    "duration": 9,
    "start_time": "2024-11-20T13:16:35.881Z"
   },
   {
    "duration": 491,
    "start_time": "2024-11-20T13:16:35.904Z"
   },
   {
    "duration": 18,
    "start_time": "2024-11-20T13:16:36.403Z"
   },
   {
    "duration": 352,
    "start_time": "2024-11-20T13:16:36.422Z"
   },
   {
    "duration": 9,
    "start_time": "2024-11-20T13:16:36.776Z"
   },
   {
    "duration": 381,
    "start_time": "2024-11-20T13:16:36.786Z"
   },
   {
    "duration": 8,
    "start_time": "2024-11-20T13:16:37.169Z"
   },
   {
    "duration": 211,
    "start_time": "2024-11-20T13:16:37.180Z"
   },
   {
    "duration": 31,
    "start_time": "2024-11-20T13:16:37.392Z"
   },
   {
    "duration": 267,
    "start_time": "2024-11-20T13:16:37.430Z"
   },
   {
    "duration": 181,
    "start_time": "2024-11-20T13:16:37.704Z"
   },
   {
    "duration": 36,
    "start_time": "2024-11-20T13:16:37.887Z"
   },
   {
    "duration": 242,
    "start_time": "2024-11-20T13:16:37.933Z"
   },
   {
    "duration": 24,
    "start_time": "2024-11-20T13:16:38.178Z"
   },
   {
    "duration": 562,
    "start_time": "2024-11-20T13:16:38.204Z"
   },
   {
    "duration": 13,
    "start_time": "2024-11-20T13:16:38.769Z"
   },
   {
    "duration": 388,
    "start_time": "2024-11-20T13:16:38.783Z"
   },
   {
    "duration": 12,
    "start_time": "2024-11-20T13:16:39.173Z"
   },
   {
    "duration": 356,
    "start_time": "2024-11-20T13:16:39.187Z"
   },
   {
    "duration": 164,
    "start_time": "2024-11-20T13:16:39.547Z"
   },
   {
    "duration": 0,
    "start_time": "2024-11-20T13:16:39.714Z"
   },
   {
    "duration": 0,
    "start_time": "2024-11-20T13:16:39.720Z"
   },
   {
    "duration": 0,
    "start_time": "2024-11-20T13:16:39.721Z"
   },
   {
    "duration": 0,
    "start_time": "2024-11-20T13:16:39.722Z"
   },
   {
    "duration": 0,
    "start_time": "2024-11-20T13:16:39.724Z"
   },
   {
    "duration": 0,
    "start_time": "2024-11-20T13:16:39.727Z"
   },
   {
    "duration": 0,
    "start_time": "2024-11-20T13:16:39.736Z"
   },
   {
    "duration": 0,
    "start_time": "2024-11-20T13:16:39.737Z"
   },
   {
    "duration": 0,
    "start_time": "2024-11-20T13:16:39.739Z"
   },
   {
    "duration": 0,
    "start_time": "2024-11-20T13:16:39.740Z"
   },
   {
    "duration": 0,
    "start_time": "2024-11-20T13:16:39.741Z"
   },
   {
    "duration": 0,
    "start_time": "2024-11-20T13:16:39.743Z"
   },
   {
    "duration": 0,
    "start_time": "2024-11-20T13:16:39.744Z"
   },
   {
    "duration": 119,
    "start_time": "2024-11-20T13:17:31.997Z"
   },
   {
    "duration": 11,
    "start_time": "2024-11-20T13:17:41.597Z"
   },
   {
    "duration": 238,
    "start_time": "2024-11-20T13:18:09.086Z"
   },
   {
    "duration": 296,
    "start_time": "2024-11-20T13:18:13.820Z"
   },
   {
    "duration": 932,
    "start_time": "2024-11-20T13:18:24.584Z"
   },
   {
    "duration": 42,
    "start_time": "2024-11-20T13:18:25.529Z"
   },
   {
    "duration": 2478,
    "start_time": "2024-11-20T13:18:25.573Z"
   },
   {
    "duration": 3,
    "start_time": "2024-11-20T13:18:28.056Z"
   },
   {
    "duration": 19,
    "start_time": "2024-11-20T13:18:28.061Z"
   },
   {
    "duration": 9,
    "start_time": "2024-11-20T13:18:28.081Z"
   },
   {
    "duration": 9,
    "start_time": "2024-11-20T13:18:28.092Z"
   },
   {
    "duration": 26,
    "start_time": "2024-11-20T13:18:28.108Z"
   },
   {
    "duration": 27,
    "start_time": "2024-11-20T13:18:28.136Z"
   },
   {
    "duration": 11,
    "start_time": "2024-11-20T13:18:28.165Z"
   },
   {
    "duration": 11,
    "start_time": "2024-11-20T13:18:28.178Z"
   },
   {
    "duration": 4,
    "start_time": "2024-11-20T13:18:28.191Z"
   },
   {
    "duration": 23,
    "start_time": "2024-11-20T13:18:28.196Z"
   },
   {
    "duration": 44,
    "start_time": "2024-11-20T13:18:28.222Z"
   },
   {
    "duration": 34,
    "start_time": "2024-11-20T13:18:28.268Z"
   },
   {
    "duration": 457,
    "start_time": "2024-11-20T13:18:28.304Z"
   },
   {
    "duration": 70,
    "start_time": "2024-11-20T13:18:28.762Z"
   },
   {
    "duration": 648,
    "start_time": "2024-11-20T13:18:28.840Z"
   },
   {
    "duration": 24,
    "start_time": "2024-11-20T13:18:29.490Z"
   },
   {
    "duration": 357,
    "start_time": "2024-11-20T13:18:29.521Z"
   },
   {
    "duration": 10,
    "start_time": "2024-11-20T13:18:29.880Z"
   },
   {
    "duration": 559,
    "start_time": "2024-11-20T13:18:29.904Z"
   },
   {
    "duration": 13,
    "start_time": "2024-11-20T13:18:30.466Z"
   },
   {
    "duration": 446,
    "start_time": "2024-11-20T13:18:30.481Z"
   },
   {
    "duration": 24,
    "start_time": "2024-11-20T13:18:30.929Z"
   },
   {
    "duration": 417,
    "start_time": "2024-11-20T13:18:30.961Z"
   },
   {
    "duration": 29,
    "start_time": "2024-11-20T13:18:31.379Z"
   },
   {
    "duration": 210,
    "start_time": "2024-11-20T13:18:31.413Z"
   },
   {
    "duration": 27,
    "start_time": "2024-11-20T13:18:31.626Z"
   },
   {
    "duration": 309,
    "start_time": "2024-11-20T13:18:31.657Z"
   },
   {
    "duration": 159,
    "start_time": "2024-11-20T13:18:31.968Z"
   },
   {
    "duration": 10,
    "start_time": "2024-11-20T13:18:32.129Z"
   },
   {
    "duration": 235,
    "start_time": "2024-11-20T13:18:32.140Z"
   },
   {
    "duration": 11,
    "start_time": "2024-11-20T13:18:32.377Z"
   },
   {
    "duration": 522,
    "start_time": "2024-11-20T13:18:32.390Z"
   },
   {
    "duration": 14,
    "start_time": "2024-11-20T13:18:32.914Z"
   },
   {
    "duration": 394,
    "start_time": "2024-11-20T13:18:32.930Z"
   },
   {
    "duration": 21,
    "start_time": "2024-11-20T13:18:33.325Z"
   },
   {
    "duration": 359,
    "start_time": "2024-11-20T13:18:33.350Z"
   },
   {
    "duration": 21,
    "start_time": "2024-11-20T13:18:33.711Z"
   },
   {
    "duration": 238,
    "start_time": "2024-11-20T13:18:33.740Z"
   },
   {
    "duration": 295,
    "start_time": "2024-11-20T13:18:33.980Z"
   },
   {
    "duration": 251,
    "start_time": "2024-11-20T13:18:34.277Z"
   },
   {
    "duration": 316,
    "start_time": "2024-11-20T13:18:34.530Z"
   },
   {
    "duration": 177,
    "start_time": "2024-11-20T13:18:34.848Z"
   },
   {
    "duration": 11,
    "start_time": "2024-11-20T13:18:35.027Z"
   },
   {
    "duration": 294,
    "start_time": "2024-11-20T13:18:35.041Z"
   },
   {
    "duration": 410,
    "start_time": "2024-11-20T13:18:35.337Z"
   },
   {
    "duration": 230,
    "start_time": "2024-11-20T13:18:35.753Z"
   },
   {
    "duration": 42,
    "start_time": "2024-11-20T13:18:35.985Z"
   },
   {
    "duration": 18,
    "start_time": "2024-11-20T13:18:36.031Z"
   },
   {
    "duration": 239,
    "start_time": "2024-11-20T13:18:36.052Z"
   },
   {
    "duration": 765,
    "start_time": "2024-11-20T13:30:32.167Z"
   },
   {
    "duration": 29,
    "start_time": "2024-11-20T13:30:32.934Z"
   },
   {
    "duration": 2025,
    "start_time": "2024-11-20T13:30:32.964Z"
   },
   {
    "duration": 3,
    "start_time": "2024-11-20T13:30:34.991Z"
   },
   {
    "duration": 27,
    "start_time": "2024-11-20T13:30:34.996Z"
   },
   {
    "duration": 16,
    "start_time": "2024-11-20T13:30:35.024Z"
   },
   {
    "duration": 12,
    "start_time": "2024-11-20T13:30:35.042Z"
   },
   {
    "duration": 8,
    "start_time": "2024-11-20T13:30:35.055Z"
   },
   {
    "duration": 13,
    "start_time": "2024-11-20T13:30:35.065Z"
   },
   {
    "duration": 8,
    "start_time": "2024-11-20T13:30:35.081Z"
   },
   {
    "duration": 26,
    "start_time": "2024-11-20T13:30:35.091Z"
   },
   {
    "duration": 3,
    "start_time": "2024-11-20T13:30:35.119Z"
   },
   {
    "duration": 25,
    "start_time": "2024-11-20T13:30:35.124Z"
   },
   {
    "duration": 21,
    "start_time": "2024-11-20T13:30:35.151Z"
   },
   {
    "duration": 28,
    "start_time": "2024-11-20T13:30:35.174Z"
   },
   {
    "duration": 314,
    "start_time": "2024-11-20T13:30:35.204Z"
   },
   {
    "duration": 33,
    "start_time": "2024-11-20T13:30:35.520Z"
   },
   {
    "duration": 380,
    "start_time": "2024-11-20T13:30:35.554Z"
   },
   {
    "duration": 22,
    "start_time": "2024-11-20T13:30:35.935Z"
   },
   {
    "duration": 367,
    "start_time": "2024-11-20T13:30:35.958Z"
   },
   {
    "duration": 9,
    "start_time": "2024-11-20T13:30:36.327Z"
   },
   {
    "duration": 387,
    "start_time": "2024-11-20T13:30:36.338Z"
   },
   {
    "duration": 10,
    "start_time": "2024-11-20T13:30:36.726Z"
   },
   {
    "duration": 290,
    "start_time": "2024-11-20T13:30:36.737Z"
   },
   {
    "duration": 10,
    "start_time": "2024-11-20T13:30:37.028Z"
   },
   {
    "duration": 314,
    "start_time": "2024-11-20T13:30:37.040Z"
   },
   {
    "duration": 8,
    "start_time": "2024-11-20T13:30:37.355Z"
   },
   {
    "duration": 166,
    "start_time": "2024-11-20T13:30:37.366Z"
   },
   {
    "duration": 9,
    "start_time": "2024-11-20T13:30:37.533Z"
   },
   {
    "duration": 221,
    "start_time": "2024-11-20T13:30:37.552Z"
   },
   {
    "duration": 144,
    "start_time": "2024-11-20T13:30:37.774Z"
   },
   {
    "duration": 9,
    "start_time": "2024-11-20T13:30:37.920Z"
   },
   {
    "duration": 274,
    "start_time": "2024-11-20T13:30:37.930Z"
   },
   {
    "duration": 9,
    "start_time": "2024-11-20T13:30:38.205Z"
   },
   {
    "duration": 394,
    "start_time": "2024-11-20T13:30:38.216Z"
   },
   {
    "duration": 9,
    "start_time": "2024-11-20T13:30:38.612Z"
   },
   {
    "duration": 293,
    "start_time": "2024-11-20T13:30:38.623Z"
   },
   {
    "duration": 9,
    "start_time": "2024-11-20T13:30:38.918Z"
   },
   {
    "duration": 294,
    "start_time": "2024-11-20T13:30:38.929Z"
   },
   {
    "duration": 4,
    "start_time": "2024-11-20T13:30:39.225Z"
   },
   {
    "duration": 205,
    "start_time": "2024-11-20T13:30:39.231Z"
   },
   {
    "duration": 225,
    "start_time": "2024-11-20T13:30:39.438Z"
   },
   {
    "duration": 204,
    "start_time": "2024-11-20T13:30:39.664Z"
   },
   {
    "duration": 222,
    "start_time": "2024-11-20T13:30:39.870Z"
   },
   {
    "duration": 135,
    "start_time": "2024-11-20T13:30:40.094Z"
   },
   {
    "duration": 4,
    "start_time": "2024-11-20T13:30:40.231Z"
   },
   {
    "duration": 200,
    "start_time": "2024-11-20T13:30:40.237Z"
   },
   {
    "duration": 302,
    "start_time": "2024-11-20T13:30:40.438Z"
   },
   {
    "duration": 178,
    "start_time": "2024-11-20T13:30:40.742Z"
   },
   {
    "duration": 32,
    "start_time": "2024-11-20T13:30:40.921Z"
   },
   {
    "duration": 8,
    "start_time": "2024-11-20T13:30:40.955Z"
   },
   {
    "duration": 190,
    "start_time": "2024-11-20T13:30:40.965Z"
   },
   {
    "duration": 77,
    "start_time": "2024-11-21T08:07:29.563Z"
   },
   {
    "duration": 68,
    "start_time": "2024-11-21T08:08:32.090Z"
   },
   {
    "duration": 72,
    "start_time": "2024-11-21T08:08:38.178Z"
   },
   {
    "duration": 883,
    "start_time": "2024-11-21T08:19:24.966Z"
   },
   {
    "duration": 163,
    "start_time": "2024-11-21T08:19:25.851Z"
   },
   {
    "duration": 125,
    "start_time": "2024-11-21T08:19:27.314Z"
   },
   {
    "duration": 17,
    "start_time": "2024-11-21T08:19:28.395Z"
   },
   {
    "duration": 2129,
    "start_time": "2024-11-21T08:21:07.942Z"
   },
   {
    "duration": 1599,
    "start_time": "2024-11-21T08:38:55.378Z"
   },
   {
    "duration": 10,
    "start_time": "2024-11-21T08:39:21.792Z"
   },
   {
    "duration": 1224,
    "start_time": "2024-11-21T08:44:09.466Z"
   },
   {
    "duration": 699,
    "start_time": "2024-11-21T08:44:33.337Z"
   },
   {
    "duration": 106,
    "start_time": "2024-11-21T08:44:34.038Z"
   },
   {
    "duration": 26,
    "start_time": "2024-11-21T08:44:34.149Z"
   },
   {
    "duration": 39,
    "start_time": "2024-11-21T08:44:34.178Z"
   },
   {
    "duration": 2216,
    "start_time": "2024-11-21T08:44:34.219Z"
   },
   {
    "duration": 4,
    "start_time": "2024-11-21T08:44:36.436Z"
   },
   {
    "duration": 64,
    "start_time": "2024-11-21T08:44:36.442Z"
   },
   {
    "duration": 88,
    "start_time": "2024-11-21T08:44:36.508Z"
   },
   {
    "duration": 19,
    "start_time": "2024-11-21T08:44:36.599Z"
   },
   {
    "duration": 14,
    "start_time": "2024-11-21T08:44:36.621Z"
   },
   {
    "duration": 41,
    "start_time": "2024-11-21T08:44:36.636Z"
   },
   {
    "duration": 25,
    "start_time": "2024-11-21T08:44:36.679Z"
   },
   {
    "duration": 50,
    "start_time": "2024-11-21T08:44:36.706Z"
   },
   {
    "duration": 73,
    "start_time": "2024-11-21T08:44:36.758Z"
   },
   {
    "duration": 118,
    "start_time": "2024-11-21T08:44:36.833Z"
   },
   {
    "duration": 26,
    "start_time": "2024-11-21T08:44:36.958Z"
   },
   {
    "duration": 20,
    "start_time": "2024-11-21T08:44:36.986Z"
   },
   {
    "duration": 303,
    "start_time": "2024-11-21T08:44:37.008Z"
   },
   {
    "duration": 37,
    "start_time": "2024-11-21T08:44:37.312Z"
   },
   {
    "duration": 414,
    "start_time": "2024-11-21T08:44:37.351Z"
   },
   {
    "duration": 6,
    "start_time": "2024-11-21T08:44:37.767Z"
   },
   {
    "duration": 19,
    "start_time": "2024-11-21T08:44:37.775Z"
   },
   {
    "duration": 361,
    "start_time": "2024-11-21T08:44:37.796Z"
   },
   {
    "duration": 11,
    "start_time": "2024-11-21T08:44:38.162Z"
   },
   {
    "duration": 404,
    "start_time": "2024-11-21T08:44:38.175Z"
   },
   {
    "duration": 9,
    "start_time": "2024-11-21T08:44:38.581Z"
   },
   {
    "duration": 302,
    "start_time": "2024-11-21T08:44:38.591Z"
   },
   {
    "duration": 9,
    "start_time": "2024-11-21T08:44:38.897Z"
   },
   {
    "duration": 333,
    "start_time": "2024-11-21T08:44:38.907Z"
   },
   {
    "duration": 20,
    "start_time": "2024-11-21T08:44:39.246Z"
   },
   {
    "duration": 165,
    "start_time": "2024-11-21T08:44:39.267Z"
   },
   {
    "duration": 32,
    "start_time": "2024-11-21T08:44:39.434Z"
   },
   {
    "duration": 226,
    "start_time": "2024-11-21T08:44:39.468Z"
   },
   {
    "duration": 193,
    "start_time": "2024-11-21T08:44:39.696Z"
   },
   {
    "duration": 10,
    "start_time": "2024-11-21T08:44:39.892Z"
   },
   {
    "duration": 226,
    "start_time": "2024-11-21T08:44:39.904Z"
   },
   {
    "duration": 20,
    "start_time": "2024-11-21T08:44:40.131Z"
   },
   {
    "duration": 368,
    "start_time": "2024-11-21T08:44:40.153Z"
   },
   {
    "duration": 9,
    "start_time": "2024-11-21T08:44:40.523Z"
   },
   {
    "duration": 324,
    "start_time": "2024-11-21T08:44:40.543Z"
   },
   {
    "duration": 10,
    "start_time": "2024-11-21T08:44:40.869Z"
   },
   {
    "duration": 320,
    "start_time": "2024-11-21T08:44:40.880Z"
   },
   {
    "duration": 4,
    "start_time": "2024-11-21T08:44:41.202Z"
   },
   {
    "duration": 233,
    "start_time": "2024-11-21T08:44:41.208Z"
   },
   {
    "duration": 243,
    "start_time": "2024-11-21T08:44:41.447Z"
   },
   {
    "duration": 210,
    "start_time": "2024-11-21T08:44:41.692Z"
   },
   {
    "duration": 223,
    "start_time": "2024-11-21T08:44:41.904Z"
   },
   {
    "duration": 143,
    "start_time": "2024-11-21T08:44:42.129Z"
   },
   {
    "duration": 5,
    "start_time": "2024-11-21T08:44:42.274Z"
   },
   {
    "duration": 221,
    "start_time": "2024-11-21T08:44:42.280Z"
   },
   {
    "duration": 311,
    "start_time": "2024-11-21T08:44:42.503Z"
   },
   {
    "duration": 197,
    "start_time": "2024-11-21T08:44:42.816Z"
   },
   {
    "duration": 48,
    "start_time": "2024-11-21T08:44:43.015Z"
   },
   {
    "duration": 9,
    "start_time": "2024-11-21T08:44:43.065Z"
   },
   {
    "duration": 205,
    "start_time": "2024-11-21T08:44:43.076Z"
   },
   {
    "duration": 110,
    "start_time": "2024-11-21T08:51:56.643Z"
   },
   {
    "duration": 762,
    "start_time": "2024-11-21T08:57:34.276Z"
   },
   {
    "duration": 145,
    "start_time": "2024-11-21T09:03:18.334Z"
   },
   {
    "duration": 78,
    "start_time": "2024-11-21T09:06:31.581Z"
   },
   {
    "duration": 5,
    "start_time": "2024-11-21T09:06:48.374Z"
   },
   {
    "duration": 23,
    "start_time": "2024-11-21T09:11:31.567Z"
   },
   {
    "duration": 23,
    "start_time": "2024-11-21T09:11:49.206Z"
   },
   {
    "duration": 8,
    "start_time": "2024-11-21T09:11:52.022Z"
   },
   {
    "duration": 1278,
    "start_time": "2024-11-21T09:12:29.853Z"
   }
  ],
  "colab": {
   "provenance": []
  },
  "kernelspec": {
   "display_name": "Python 3 (ipykernel)",
   "language": "python",
   "name": "python3"
  },
  "language_info": {
   "codemirror_mode": {
    "name": "ipython",
    "version": 3
   },
   "file_extension": ".py",
   "mimetype": "text/x-python",
   "name": "python",
   "nbconvert_exporter": "python",
   "pygments_lexer": "ipython3",
   "version": "3.10.9"
  },
  "toc": {
   "base_numbering": 1,
   "nav_menu": {},
   "number_sections": true,
   "sideBar": true,
   "skip_h1_title": true,
   "title_cell": "Table of Contents",
   "title_sidebar": "Contents",
   "toc_cell": false,
   "toc_position": {
    "height": "calc(100% - 180px)",
    "left": "10px",
    "top": "150px",
    "width": "320px"
   },
   "toc_section_display": true,
   "toc_window_display": true
  }
 },
 "nbformat": 4,
 "nbformat_minor": 1
}
